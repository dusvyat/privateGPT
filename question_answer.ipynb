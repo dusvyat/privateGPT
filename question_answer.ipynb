{
 "cells": [
  {
   "cell_type": "code",
   "execution_count": 12,
   "metadata": {
    "collapsed": true
   },
   "outputs": [
    {
     "name": "stdout",
     "output_type": "stream",
     "text": [
      "Looking in indexes: https://pypi.python.org/simple\r\n",
      "Requirement already satisfied: langchain==0.0.166 in ./venv/lib/python3.11/site-packages (from -r requirements.txt (line 1)) (0.0.166)\r\n",
      "Requirement already satisfied: pygpt4all==1.1.0 in ./venv/lib/python3.11/site-packages (from -r requirements.txt (line 2)) (1.1.0)\r\n",
      "Requirement already satisfied: chromadb==0.3.22 in ./venv/lib/python3.11/site-packages (from -r requirements.txt (line 3)) (0.3.22)\r\n",
      "Requirement already satisfied: llama-cpp-python==0.1.48 in ./venv/lib/python3.11/site-packages (from -r requirements.txt (line 4)) (0.1.48)\r\n",
      "Requirement already satisfied: urllib3==1.26.6 in ./venv/lib/python3.11/site-packages (from -r requirements.txt (line 5)) (1.26.6)\r\n",
      "Requirement already satisfied: pdfminer.six==20221105 in ./venv/lib/python3.11/site-packages (from -r requirements.txt (line 6)) (20221105)\r\n",
      "Requirement already satisfied: numpy in ./venv/lib/python3.11/site-packages (from -r requirements.txt (line 7)) (1.24.3)\r\n",
      "Requirement already satisfied: pandas in ./venv/lib/python3.11/site-packages (from -r requirements.txt (line 8)) (2.0.1)\r\n",
      "Requirement already satisfied: typer[all] in ./venv/lib/python3.11/site-packages (from -r requirements.txt (line 9)) (0.9.0)\r\n",
      "Requirement already satisfied: PyYAML>=5.4.1 in ./venv/lib/python3.11/site-packages (from langchain==0.0.166->-r requirements.txt (line 1)) (6.0)\r\n",
      "Requirement already satisfied: SQLAlchemy<3,>=1.4 in ./venv/lib/python3.11/site-packages (from langchain==0.0.166->-r requirements.txt (line 1)) (2.0.13)\r\n",
      "Requirement already satisfied: aiohttp<4.0.0,>=3.8.3 in ./venv/lib/python3.11/site-packages (from langchain==0.0.166->-r requirements.txt (line 1)) (3.8.4)\r\n",
      "Requirement already satisfied: dataclasses-json<0.6.0,>=0.5.7 in ./venv/lib/python3.11/site-packages (from langchain==0.0.166->-r requirements.txt (line 1)) (0.5.7)\r\n",
      "Requirement already satisfied: numexpr<3.0.0,>=2.8.4 in ./venv/lib/python3.11/site-packages (from langchain==0.0.166->-r requirements.txt (line 1)) (2.8.4)\r\n",
      "Requirement already satisfied: openapi-schema-pydantic<2.0,>=1.2 in ./venv/lib/python3.11/site-packages (from langchain==0.0.166->-r requirements.txt (line 1)) (1.2.4)\r\n",
      "Requirement already satisfied: pydantic<2,>=1 in ./venv/lib/python3.11/site-packages (from langchain==0.0.166->-r requirements.txt (line 1)) (1.10.7)\r\n",
      "Requirement already satisfied: requests<3,>=2 in ./venv/lib/python3.11/site-packages (from langchain==0.0.166->-r requirements.txt (line 1)) (2.30.0)\r\n",
      "Requirement already satisfied: tenacity<9.0.0,>=8.1.0 in ./venv/lib/python3.11/site-packages (from langchain==0.0.166->-r requirements.txt (line 1)) (8.2.2)\r\n",
      "Requirement already satisfied: tqdm>=4.48.0 in ./venv/lib/python3.11/site-packages (from langchain==0.0.166->-r requirements.txt (line 1)) (4.65.0)\r\n",
      "Requirement already satisfied: pyllamacpp in ./venv/lib/python3.11/site-packages (from pygpt4all==1.1.0->-r requirements.txt (line 2)) (2.1.3)\r\n",
      "Requirement already satisfied: pygptj in ./venv/lib/python3.11/site-packages (from pygpt4all==1.1.0->-r requirements.txt (line 2)) (2.0.3)\r\n",
      "Requirement already satisfied: hnswlib>=0.7 in ./venv/lib/python3.11/site-packages (from chromadb==0.3.22->-r requirements.txt (line 3)) (0.7.0)\r\n",
      "Requirement already satisfied: clickhouse-connect>=0.5.7 in ./venv/lib/python3.11/site-packages (from chromadb==0.3.22->-r requirements.txt (line 3)) (0.5.24)\r\n",
      "Requirement already satisfied: sentence-transformers>=2.2.2 in ./venv/lib/python3.11/site-packages (from chromadb==0.3.22->-r requirements.txt (line 3)) (2.2.2)\r\n",
      "Requirement already satisfied: duckdb>=0.7.1 in ./venv/lib/python3.11/site-packages (from chromadb==0.3.22->-r requirements.txt (line 3)) (0.7.1)\r\n",
      "Requirement already satisfied: fastapi>=0.85.1 in ./venv/lib/python3.11/site-packages (from chromadb==0.3.22->-r requirements.txt (line 3)) (0.95.1)\r\n",
      "Requirement already satisfied: uvicorn[standard]>=0.18.3 in ./venv/lib/python3.11/site-packages (from chromadb==0.3.22->-r requirements.txt (line 3)) (0.22.0)\r\n",
      "Requirement already satisfied: posthog>=2.4.0 in ./venv/lib/python3.11/site-packages (from chromadb==0.3.22->-r requirements.txt (line 3)) (3.0.1)\r\n",
      "Requirement already satisfied: typing-extensions>=4.5.0 in ./venv/lib/python3.11/site-packages (from chromadb==0.3.22->-r requirements.txt (line 3)) (4.5.0)\r\n",
      "Requirement already satisfied: charset-normalizer>=2.0.0 in ./venv/lib/python3.11/site-packages (from pdfminer.six==20221105->-r requirements.txt (line 6)) (3.1.0)\r\n",
      "Requirement already satisfied: cryptography>=36.0.0 in ./venv/lib/python3.11/site-packages (from pdfminer.six==20221105->-r requirements.txt (line 6)) (40.0.2)\r\n",
      "Requirement already satisfied: python-dateutil>=2.8.2 in ./venv/lib/python3.11/site-packages (from pandas->-r requirements.txt (line 8)) (2.8.2)\r\n",
      "Requirement already satisfied: pytz>=2020.1 in ./venv/lib/python3.11/site-packages (from pandas->-r requirements.txt (line 8)) (2023.3)\r\n",
      "Requirement already satisfied: tzdata>=2022.1 in ./venv/lib/python3.11/site-packages (from pandas->-r requirements.txt (line 8)) (2023.3)\r\n",
      "Requirement already satisfied: click<9.0.0,>=7.1.1 in ./venv/lib/python3.11/site-packages (from typer[all]->-r requirements.txt (line 9)) (8.1.3)\r\n",
      "Requirement already satisfied: colorama<0.5.0,>=0.4.3 in ./venv/lib/python3.11/site-packages (from typer[all]->-r requirements.txt (line 9)) (0.4.6)\r\n",
      "Requirement already satisfied: shellingham<2.0.0,>=1.3.0 in ./venv/lib/python3.11/site-packages (from typer[all]->-r requirements.txt (line 9)) (1.5.0.post1)\r\n",
      "Requirement already satisfied: rich<14.0.0,>=10.11.0 in ./venv/lib/python3.11/site-packages (from typer[all]->-r requirements.txt (line 9)) (13.3.5)\r\n",
      "Requirement already satisfied: attrs>=17.3.0 in ./venv/lib/python3.11/site-packages (from aiohttp<4.0.0,>=3.8.3->langchain==0.0.166->-r requirements.txt (line 1)) (23.1.0)\r\n",
      "Requirement already satisfied: multidict<7.0,>=4.5 in ./venv/lib/python3.11/site-packages (from aiohttp<4.0.0,>=3.8.3->langchain==0.0.166->-r requirements.txt (line 1)) (6.0.4)\r\n",
      "Requirement already satisfied: async-timeout<5.0,>=4.0.0a3 in ./venv/lib/python3.11/site-packages (from aiohttp<4.0.0,>=3.8.3->langchain==0.0.166->-r requirements.txt (line 1)) (4.0.2)\r\n",
      "Requirement already satisfied: yarl<2.0,>=1.0 in ./venv/lib/python3.11/site-packages (from aiohttp<4.0.0,>=3.8.3->langchain==0.0.166->-r requirements.txt (line 1)) (1.9.2)\r\n",
      "Requirement already satisfied: frozenlist>=1.1.1 in ./venv/lib/python3.11/site-packages (from aiohttp<4.0.0,>=3.8.3->langchain==0.0.166->-r requirements.txt (line 1)) (1.3.3)\r\n",
      "Requirement already satisfied: aiosignal>=1.1.2 in ./venv/lib/python3.11/site-packages (from aiohttp<4.0.0,>=3.8.3->langchain==0.0.166->-r requirements.txt (line 1)) (1.3.1)\r\n",
      "Requirement already satisfied: certifi in ./venv/lib/python3.11/site-packages (from clickhouse-connect>=0.5.7->chromadb==0.3.22->-r requirements.txt (line 3)) (2023.5.7)\r\n",
      "Requirement already satisfied: zstandard in ./venv/lib/python3.11/site-packages (from clickhouse-connect>=0.5.7->chromadb==0.3.22->-r requirements.txt (line 3)) (0.21.0)\r\n",
      "Requirement already satisfied: lz4 in ./venv/lib/python3.11/site-packages (from clickhouse-connect>=0.5.7->chromadb==0.3.22->-r requirements.txt (line 3)) (4.3.2)\r\n",
      "Requirement already satisfied: cffi>=1.12 in ./venv/lib/python3.11/site-packages (from cryptography>=36.0.0->pdfminer.six==20221105->-r requirements.txt (line 6)) (1.15.1)\r\n",
      "Requirement already satisfied: marshmallow<4.0.0,>=3.3.0 in ./venv/lib/python3.11/site-packages (from dataclasses-json<0.6.0,>=0.5.7->langchain==0.0.166->-r requirements.txt (line 1)) (3.19.0)\r\n",
      "Requirement already satisfied: marshmallow-enum<2.0.0,>=1.5.1 in ./venv/lib/python3.11/site-packages (from dataclasses-json<0.6.0,>=0.5.7->langchain==0.0.166->-r requirements.txt (line 1)) (1.5.1)\r\n",
      "Requirement already satisfied: typing-inspect>=0.4.0 in ./venv/lib/python3.11/site-packages (from dataclasses-json<0.6.0,>=0.5.7->langchain==0.0.166->-r requirements.txt (line 1)) (0.8.0)\r\n",
      "Requirement already satisfied: starlette<0.27.0,>=0.26.1 in ./venv/lib/python3.11/site-packages (from fastapi>=0.85.1->chromadb==0.3.22->-r requirements.txt (line 3)) (0.26.1)\r\n",
      "Requirement already satisfied: six>=1.5 in ./venv/lib/python3.11/site-packages (from posthog>=2.4.0->chromadb==0.3.22->-r requirements.txt (line 3)) (1.16.0)\r\n",
      "Requirement already satisfied: monotonic>=1.5 in ./venv/lib/python3.11/site-packages (from posthog>=2.4.0->chromadb==0.3.22->-r requirements.txt (line 3)) (1.6)\r\n",
      "Requirement already satisfied: backoff>=1.10.0 in ./venv/lib/python3.11/site-packages (from posthog>=2.4.0->chromadb==0.3.22->-r requirements.txt (line 3)) (2.2.1)\r\n",
      "Requirement already satisfied: idna<4,>=2.5 in ./venv/lib/python3.11/site-packages (from requests<3,>=2->langchain==0.0.166->-r requirements.txt (line 1)) (3.4)\r\n",
      "Requirement already satisfied: markdown-it-py<3.0.0,>=2.2.0 in ./venv/lib/python3.11/site-packages (from rich<14.0.0,>=10.11.0->typer[all]->-r requirements.txt (line 9)) (2.2.0)\r\n",
      "Requirement already satisfied: pygments<3.0.0,>=2.13.0 in ./venv/lib/python3.11/site-packages (from rich<14.0.0,>=10.11.0->typer[all]->-r requirements.txt (line 9)) (2.15.1)\r\n",
      "Requirement already satisfied: transformers<5.0.0,>=4.6.0 in ./venv/lib/python3.11/site-packages (from sentence-transformers>=2.2.2->chromadb==0.3.22->-r requirements.txt (line 3)) (4.29.1)\r\n",
      "Requirement already satisfied: torch>=1.6.0 in ./venv/lib/python3.11/site-packages (from sentence-transformers>=2.2.2->chromadb==0.3.22->-r requirements.txt (line 3)) (2.0.1)\r\n",
      "Requirement already satisfied: torchvision in ./venv/lib/python3.11/site-packages (from sentence-transformers>=2.2.2->chromadb==0.3.22->-r requirements.txt (line 3)) (0.15.2)\r\n",
      "Requirement already satisfied: scikit-learn in ./venv/lib/python3.11/site-packages (from sentence-transformers>=2.2.2->chromadb==0.3.22->-r requirements.txt (line 3)) (1.2.2)\r\n",
      "Requirement already satisfied: scipy in ./venv/lib/python3.11/site-packages (from sentence-transformers>=2.2.2->chromadb==0.3.22->-r requirements.txt (line 3)) (1.10.1)\r\n",
      "Requirement already satisfied: nltk in ./venv/lib/python3.11/site-packages (from sentence-transformers>=2.2.2->chromadb==0.3.22->-r requirements.txt (line 3)) (3.8.1)\r\n",
      "Requirement already satisfied: sentencepiece in ./venv/lib/python3.11/site-packages (from sentence-transformers>=2.2.2->chromadb==0.3.22->-r requirements.txt (line 3)) (0.1.99)\r\n",
      "Requirement already satisfied: huggingface-hub>=0.4.0 in ./venv/lib/python3.11/site-packages (from sentence-transformers>=2.2.2->chromadb==0.3.22->-r requirements.txt (line 3)) (0.14.1)\r\n",
      "Requirement already satisfied: h11>=0.8 in ./venv/lib/python3.11/site-packages (from uvicorn[standard]>=0.18.3->chromadb==0.3.22->-r requirements.txt (line 3)) (0.14.0)\r\n",
      "Requirement already satisfied: httptools>=0.5.0 in ./venv/lib/python3.11/site-packages (from uvicorn[standard]>=0.18.3->chromadb==0.3.22->-r requirements.txt (line 3)) (0.5.0)\r\n",
      "Requirement already satisfied: python-dotenv>=0.13 in ./venv/lib/python3.11/site-packages (from uvicorn[standard]>=0.18.3->chromadb==0.3.22->-r requirements.txt (line 3)) (1.0.0)\r\n",
      "Requirement already satisfied: uvloop!=0.15.0,!=0.15.1,>=0.14.0 in ./venv/lib/python3.11/site-packages (from uvicorn[standard]>=0.18.3->chromadb==0.3.22->-r requirements.txt (line 3)) (0.17.0)\r\n",
      "Requirement already satisfied: watchfiles>=0.13 in ./venv/lib/python3.11/site-packages (from uvicorn[standard]>=0.18.3->chromadb==0.3.22->-r requirements.txt (line 3)) (0.19.0)\r\n",
      "Requirement already satisfied: websockets>=10.4 in ./venv/lib/python3.11/site-packages (from uvicorn[standard]>=0.18.3->chromadb==0.3.22->-r requirements.txt (line 3)) (11.0.3)\r\n",
      "Requirement already satisfied: pycparser in ./venv/lib/python3.11/site-packages (from cffi>=1.12->cryptography>=36.0.0->pdfminer.six==20221105->-r requirements.txt (line 6)) (2.21)\r\n",
      "Requirement already satisfied: filelock in ./venv/lib/python3.11/site-packages (from huggingface-hub>=0.4.0->sentence-transformers>=2.2.2->chromadb==0.3.22->-r requirements.txt (line 3)) (3.12.0)\r\n",
      "Requirement already satisfied: fsspec in ./venv/lib/python3.11/site-packages (from huggingface-hub>=0.4.0->sentence-transformers>=2.2.2->chromadb==0.3.22->-r requirements.txt (line 3)) (2023.5.0)\r\n",
      "Requirement already satisfied: packaging>=20.9 in ./venv/lib/python3.11/site-packages (from huggingface-hub>=0.4.0->sentence-transformers>=2.2.2->chromadb==0.3.22->-r requirements.txt (line 3)) (23.1)\r\n",
      "Requirement already satisfied: mdurl~=0.1 in ./venv/lib/python3.11/site-packages (from markdown-it-py<3.0.0,>=2.2.0->rich<14.0.0,>=10.11.0->typer[all]->-r requirements.txt (line 9)) (0.1.2)\r\n",
      "Requirement already satisfied: anyio<5,>=3.4.0 in ./venv/lib/python3.11/site-packages (from starlette<0.27.0,>=0.26.1->fastapi>=0.85.1->chromadb==0.3.22->-r requirements.txt (line 3)) (3.6.2)\r\n",
      "Requirement already satisfied: sympy in ./venv/lib/python3.11/site-packages (from torch>=1.6.0->sentence-transformers>=2.2.2->chromadb==0.3.22->-r requirements.txt (line 3)) (1.12)\r\n",
      "Requirement already satisfied: networkx in ./venv/lib/python3.11/site-packages (from torch>=1.6.0->sentence-transformers>=2.2.2->chromadb==0.3.22->-r requirements.txt (line 3)) (3.1)\r\n",
      "Requirement already satisfied: jinja2 in ./venv/lib/python3.11/site-packages (from torch>=1.6.0->sentence-transformers>=2.2.2->chromadb==0.3.22->-r requirements.txt (line 3)) (3.1.2)\r\n",
      "Requirement already satisfied: regex!=2019.12.17 in ./venv/lib/python3.11/site-packages (from transformers<5.0.0,>=4.6.0->sentence-transformers>=2.2.2->chromadb==0.3.22->-r requirements.txt (line 3)) (2023.5.5)\r\n",
      "Requirement already satisfied: tokenizers!=0.11.3,<0.14,>=0.11.1 in ./venv/lib/python3.11/site-packages (from transformers<5.0.0,>=4.6.0->sentence-transformers>=2.2.2->chromadb==0.3.22->-r requirements.txt (line 3)) (0.13.3)\r\n",
      "Requirement already satisfied: mypy-extensions>=0.3.0 in ./venv/lib/python3.11/site-packages (from typing-inspect>=0.4.0->dataclasses-json<0.6.0,>=0.5.7->langchain==0.0.166->-r requirements.txt (line 1)) (1.0.0)\r\n",
      "Requirement already satisfied: joblib in ./venv/lib/python3.11/site-packages (from nltk->sentence-transformers>=2.2.2->chromadb==0.3.22->-r requirements.txt (line 3)) (1.2.0)\r\n",
      "Requirement already satisfied: threadpoolctl>=2.0.0 in ./venv/lib/python3.11/site-packages (from scikit-learn->sentence-transformers>=2.2.2->chromadb==0.3.22->-r requirements.txt (line 3)) (3.1.0)\r\n",
      "Requirement already satisfied: pillow!=8.3.*,>=5.3.0 in ./venv/lib/python3.11/site-packages (from torchvision->sentence-transformers>=2.2.2->chromadb==0.3.22->-r requirements.txt (line 3)) (9.5.0)\r\n",
      "Requirement already satisfied: sniffio>=1.1 in ./venv/lib/python3.11/site-packages (from anyio<5,>=3.4.0->starlette<0.27.0,>=0.26.1->fastapi>=0.85.1->chromadb==0.3.22->-r requirements.txt (line 3)) (1.3.0)\r\n",
      "Requirement already satisfied: MarkupSafe>=2.0 in ./venv/lib/python3.11/site-packages (from jinja2->torch>=1.6.0->sentence-transformers>=2.2.2->chromadb==0.3.22->-r requirements.txt (line 3)) (2.1.2)\r\n",
      "Requirement already satisfied: mpmath>=0.19 in ./venv/lib/python3.11/site-packages (from sympy->torch>=1.6.0->sentence-transformers>=2.2.2->chromadb==0.3.22->-r requirements.txt (line 3)) (1.3.0)\r\n"
     ]
    }
   ],
   "source": [
    "#install requirements\n",
    "!pip install -r requirements.txt"
   ]
  },
  {
   "cell_type": "code",
   "execution_count": 1,
   "outputs": [
    {
     "data": {
      "text/plain": "True"
     },
     "execution_count": 1,
     "metadata": {},
     "output_type": "execute_result"
    }
   ],
   "source": [
    "from runner import runner\n",
    "\n",
    "from dotenv import load_dotenv\n",
    "\n",
    "load_dotenv() #suppress Tokenizer warning by setting parallelism to true"
   ],
   "metadata": {
    "collapsed": false
   }
  },
  {
   "cell_type": "markdown",
   "source": [
    "## Instructions\n",
    "\n",
    "Before use, ensure you have the following:\n",
    "\n",
    "- Downloaded GPT4ALL model, see readme for link\n",
    "- Put your data sources in the sources_documents folder\n",
    "- Downloaded all requirements from requirements.txt (run the first cell - reminder you need Python 3.10 or above)\n",
    "\n",
    "To execute this notebook follow the following steps:\n",
    "\n",
    "1. Ensure you load your data sources into the 'sources_documents' folder, this is the default source directory. You can also change the location inside settings.py. Currently there is support for .pdf, .txt and .csv. It is able to create embeddings from multiple datasources\n",
    "\n",
    "2. Run the pipeline, use the args to specify which steps you would like to run.\n",
    "<br>\n",
    "\n",
    "***WARNING! Embedding step can take a lot of time depending on your hardware (e.g. if you have a GPU that supported CUDA), you should ensure this is done before live demos***\n",
    "\n",
    "<br>\n",
    "\n",
    "3. Outputs by default are stored to the output folder, by default it is data/output. A new .csv is created for each query. If you want to save the result, need to set the save_output flag to True on runner() to save the output to a .csv\n",
    "\n",
    "### Passing in Queries\n",
    "\n",
    "To pass in queries there are a few options:\n",
    "\n",
    "- Pass a query directly into the query function\n",
    "- Read a query from a .txt file by default use queries/queries.txt, to change this you can update settings.py. NB passing in more than one will likely lead in a memory error due to the fact the vectorDB is stored locally in memory. It could work with stronger hardware, it hasn't been tested\n",
    "- Using user input via terminal\n",
    "\n"
   ],
   "metadata": {
    "collapsed": false
   }
  },
  {
   "cell_type": "code",
   "execution_count": 2,
   "outputs": [
    {
     "name": "stdout",
     "output_type": "stream",
     "text": [
      "\u001B[1m                                                                                \u001B[0m\r\n",
      "\u001B[1m \u001B[0m\u001B[1;33mUsage: \u001B[0m\u001B[1mrunner.py [OPTIONS]\u001B[0m\u001B[1m                                                    \u001B[0m\u001B[1m \u001B[0m\r\n",
      "\u001B[1m                                                                                \u001B[0m\r\n",
      " specify the pipeline to run using arguments, if using user input, specify the  \r\n",
      " question to ask and when done enter 'exit' to save output, if not, specify the \r\n",
      " questions to ask in the queries file                                           \r\n",
      "                                                                                \r\n",
      "\u001B[2m╭─\u001B[0m\u001B[2m Options \u001B[0m\u001B[2m───────────────────────────────────────────────────────────────────\u001B[0m\u001B[2m─╮\u001B[0m\r\n",
      "\u001B[2m│\u001B[0m \u001B[1;36m-\u001B[0m\u001B[1;36m-query\u001B[0m                              \u001B[1;33mTEXT\u001B[0m  \u001B[2m[default: None]\u001B[0m                   \u001B[2m│\u001B[0m\r\n",
      "\u001B[2m│\u001B[0m \u001B[1;36m-\u001B[0m\u001B[1;36m-user\u001B[0m\u001B[1;36m-input\u001B[0m     \u001B[1;35m-\u001B[0m\u001B[1;35m-no\u001B[0m\u001B[1;35m-user-input\u001B[0m     \u001B[1;33m    \u001B[0m  \u001B[2m[default: no-user-input]\u001B[0m          \u001B[2m│\u001B[0m\r\n",
      "\u001B[2m│\u001B[0m \u001B[1;36m-\u001B[0m\u001B[1;36m-preprocess\u001B[0m     \u001B[1;35m-\u001B[0m\u001B[1;35m-no\u001B[0m\u001B[1;35m-preprocess\u001B[0m     \u001B[1;33m    \u001B[0m  \u001B[2m[default: no-preprocess]\u001B[0m          \u001B[2m│\u001B[0m\r\n",
      "\u001B[2m│\u001B[0m \u001B[1;36m-\u001B[0m\u001B[1;36m-ingest\u001B[0m         \u001B[1;35m-\u001B[0m\u001B[1;35m-no\u001B[0m\u001B[1;35m-ingest\u001B[0m         \u001B[1;33m    \u001B[0m  \u001B[2m[default: no-ingest]\u001B[0m              \u001B[2m│\u001B[0m\r\n",
      "\u001B[2m│\u001B[0m \u001B[1;36m-\u001B[0m\u001B[1;36m-save\u001B[0m\u001B[1;36m-output\u001B[0m    \u001B[1;35m-\u001B[0m\u001B[1;35m-no\u001B[0m\u001B[1;35m-save-output\u001B[0m    \u001B[1;33m    \u001B[0m  \u001B[2m[default: no-save-output]\u001B[0m         \u001B[2m│\u001B[0m\r\n",
      "\u001B[2m│\u001B[0m \u001B[1;36m-\u001B[0m\u001B[1;36m-help\u001B[0m                               \u001B[1;33m    \u001B[0m  Show this message and exit.       \u001B[2m│\u001B[0m\r\n",
      "\u001B[2m╰──────────────────────────────────────────────────────────────────────────────╯\u001B[0m\r\n",
      "\r\n"
     ]
    }
   ],
   "source": [
    "!python runner.py --help\n"
   ],
   "metadata": {
    "collapsed": false
   }
  },
  {
   "cell_type": "code",
   "execution_count": 5,
   "outputs": [],
   "source": [
    "### Run full pipeline ###\n",
    "# preprocess input data\n",
    "# get embeddings from input data\n",
    "# run query\n",
    "\n",
    "#query=\"what product to use to treat a cough\"\n",
    "#answers_df = runner(query=query, user_input=False, preprocess=True,ingest=True,save_output=False)"
   ],
   "metadata": {
    "collapsed": false
   }
  },
  {
   "cell_type": "code",
   "execution_count": 13,
   "outputs": [
    {
     "data": {
      "text/plain": "FloatProgress(value=0.0, layout=Layout(width='100%'), style=ProgressStyle(bar_color='black'))",
      "application/vnd.jupyter.widget-view+json": {
       "version_major": 2,
       "version_minor": 0,
       "model_id": "893a2232016b44c596ad597c2d280b93"
      }
     },
     "metadata": {},
     "output_type": "display_data"
    },
    {
     "name": "stdout",
     "output_type": "stream",
     "text": [
      " \"It's always good to take prescription anti-inflammation agents and drink water with ginger in cases of severe or stubborn cold sore, flu or inflammation as long as possible and early after drinking and also not consuming with grapeflavour drugs to make them a sore throat symptom of worse with Grape-Flavoured NSAID like difloxazine in 2nd 4 to 12 hour before drug, acetaamionfen acetamisadroxynol baclotrix is only given under close a pharmacist guidance done\n",
      "gptj_model_load: model size =  3609.38 MB / num tensors = 285\n",
      "gptj_model_load: loading model from 'models/ggml-gpt4all-j-v1.3-groovy.bin' - please wait ...\n",
      "gptj_model_load: n_vocab = 50400\n",
      "gptj_model_load: n_ctx   = 2048\n",
      "gptj_model_load: n_embd  = 4096\n",
      "gptj_model_load: n_head  = 16\n",
      "gptj_model_load: n_layer = 28\n",
      "gptj_model_load: n_rot   = 64\n",
      "gptj_model_load: f16     = 2\n",
      "gptj_model_load: ggml ctx size = 4505.45 MB\n",
      "gptj_model_load: memory_size =   896.00 MB, n_mem = 57344\n",
      "gptj_model_load: ..................................."
     ]
    },
    {
     "data": {
      "text/plain": "FloatProgress(value=0.0, layout=Layout(width='100%'), style=ProgressStyle(bar_color='black'))",
      "application/vnd.jupyter.widget-view+json": {
       "version_major": 2,
       "version_minor": 0,
       "model_id": "d22f369a76794de5b4963442f8f4a005"
      }
     },
     "metadata": {},
     "output_type": "display_data"
    },
    {
     "name": "stdout",
     "output_type": "stream",
     "text": [
      " You can use over-the-counter analgesics, such as acetaminophen or ibuprofen, to alleviate sore throat pain. You should avoid taking prescription-strength anti-inflammatory medications such as ibuprofein and naproxen as they may interfere with your other medications. You can also consider gargling with salt water, using warm salt water to help relieve your throat's symptoms.\n",
      "\n",
      "Drug Interactions: Acetaminophen, aspirin, and non-steroidal anti-inflammatory drugs (NSAIDs) like ibuprofein can cause or exacerbate reactions, particularly when used in high doses. Additionally, monoamine oxidase inhibitors (MAOIs) such as tricyclics can also interact with NSAIDs and may lead to gastrointestinal toxicity. Consult with your doctor about these potential drug interactions before taking any medications."
     ]
    }
   ],
   "source": [
    "### Query Only - for this to work you will have needed to run the above cell successfully ###\n",
    "\n",
    "query=\"what product to use to treat a sore throat\"\n",
    "\n",
    "answers_df = runner(query=query, user_input=False, preprocess=False,ingest=False,save_output=False)"
   ],
   "metadata": {
    "collapsed": false
   }
  },
  {
   "cell_type": "code",
   "execution_count": 14,
   "outputs": [
    {
     "data": {
      "text/plain": "                                     question   \n0  what product to use to treat a sore throat  \\\n\n                                              answer   \n0   You can use over-the-counter analgesics, such...  \\\n\n                                    source_documents  \n0  {'sources_document': ['source_documents/drug_c...  ",
      "text/html": "<div>\n<style scoped>\n    .dataframe tbody tr th:only-of-type {\n        vertical-align: middle;\n    }\n\n    .dataframe tbody tr th {\n        vertical-align: top;\n    }\n\n    .dataframe thead th {\n        text-align: right;\n    }\n</style>\n<table border=\"1\" class=\"dataframe\">\n  <thead>\n    <tr style=\"text-align: right;\">\n      <th></th>\n      <th>question</th>\n      <th>answer</th>\n      <th>source_documents</th>\n    </tr>\n  </thead>\n  <tbody>\n    <tr>\n      <th>0</th>\n      <td>what product to use to treat a sore throat</td>\n      <td>You can use over-the-counter analgesics, such...</td>\n      <td>{'sources_document': ['source_documents/drug_c...</td>\n    </tr>\n  </tbody>\n</table>\n</div>"
     },
     "execution_count": 14,
     "metadata": {},
     "output_type": "execute_result"
    }
   ],
   "source": [
    "answers_df\n"
   ],
   "metadata": {
    "collapsed": false
   }
  },
  {
   "cell_type": "code",
   "execution_count": 16,
   "outputs": [
    {
     "data": {
      "text/plain": "{'sources_document': ['source_documents/drug_context_cleaned.csv'],\n 'sources_row': [9967],\n 'sources_content': ['If sore throat is severe persists for more than 2 days is accompanied or followed by fever headache rash nausea or vomiting consult a doctor promptly Do not use with any other drug containing acetaminophen prescription or nonprescription If you are not sure whether a drug contains acetaminophen ask a doctor or pharmacist if you are now taking a prescription monoamine oxidase inhibitor MAOI certain drugs for depression psychiatric or emotional conditions or Parkinsons disease or for 2 weeks after']}"
     },
     "execution_count": 16,
     "metadata": {},
     "output_type": "execute_result"
    }
   ],
   "source": [
    "answers_df['source_documents'][0]"
   ],
   "metadata": {
    "collapsed": false
   }
  },
  {
   "cell_type": "code",
   "execution_count": null,
   "outputs": [],
   "source": [],
   "metadata": {
    "collapsed": false
   }
  }
 ],
 "metadata": {
  "kernelspec": {
   "display_name": "Python 3",
   "language": "python",
   "name": "python3"
  },
  "language_info": {
   "codemirror_mode": {
    "name": "ipython",
    "version": 2
   },
   "file_extension": ".py",
   "mimetype": "text/x-python",
   "name": "python",
   "nbconvert_exporter": "python",
   "pygments_lexer": "ipython2",
   "version": "2.7.6"
  }
 },
 "nbformat": 4,
 "nbformat_minor": 0
}
