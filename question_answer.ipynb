{
 "cells": [
  {
   "cell_type": "code",
   "execution_count": 1,
   "metadata": {
    "collapsed": true
   },
   "outputs": [
    {
     "name": "stdout",
     "output_type": "stream",
     "text": [
      "Looking in indexes: https://pypi.python.org/simple\r\n",
      "Requirement already satisfied: langchain[embeddings,llm]==0.0.166 in ./venv/lib/python3.11/site-packages (from -r requirements.txt (line 1)) (0.0.166)\r\n",
      "Requirement already satisfied: pygpt4all==1.1.0 in ./venv/lib/python3.11/site-packages (from -r requirements.txt (line 2)) (1.1.0)\r\n",
      "Requirement already satisfied: chromadb==0.3.22 in ./venv/lib/python3.11/site-packages (from -r requirements.txt (line 3)) (0.3.22)\r\n",
      "Requirement already satisfied: llama-cpp-python==0.1.48 in ./venv/lib/python3.11/site-packages (from -r requirements.txt (line 4)) (0.1.48)\r\n",
      "Requirement already satisfied: urllib3==1.26.6 in ./venv/lib/python3.11/site-packages (from -r requirements.txt (line 5)) (1.26.6)\r\n",
      "Requirement already satisfied: pdfminer.six==20221105 in ./venv/lib/python3.11/site-packages (from -r requirements.txt (line 6)) (20221105)\r\n",
      "Requirement already satisfied: numpy in ./venv/lib/python3.11/site-packages (from -r requirements.txt (line 7)) (1.24.3)\r\n",
      "Requirement already satisfied: pandas in ./venv/lib/python3.11/site-packages (from -r requirements.txt (line 8)) (2.0.1)\r\n",
      "Requirement already satisfied: typer[all] in ./venv/lib/python3.11/site-packages (from -r requirements.txt (line 9)) (0.9.0)\r\n",
      "Requirement already satisfied: pydantic in ./venv/lib/python3.11/site-packages (from -r requirements.txt (line 10)) (1.10.7)\r\n",
      "Requirement already satisfied: PyYAML in ./venv/lib/python3.11/site-packages (from -r requirements.txt (line 11)) (6.0)\r\n",
      "\u001B[33mWARNING: langchain 0.0.166 does not provide the extra 'llm'\u001B[0m\u001B[33m\r\n",
      "\u001B[0mRequirement already satisfied: SQLAlchemy<3,>=1.4 in ./venv/lib/python3.11/site-packages (from langchain[embeddings,llm]==0.0.166->-r requirements.txt (line 1)) (2.0.13)\r\n",
      "Requirement already satisfied: aiohttp<4.0.0,>=3.8.3 in ./venv/lib/python3.11/site-packages (from langchain[embeddings,llm]==0.0.166->-r requirements.txt (line 1)) (3.8.4)\r\n",
      "Requirement already satisfied: dataclasses-json<0.6.0,>=0.5.7 in ./venv/lib/python3.11/site-packages (from langchain[embeddings,llm]==0.0.166->-r requirements.txt (line 1)) (0.5.7)\r\n",
      "Requirement already satisfied: numexpr<3.0.0,>=2.8.4 in ./venv/lib/python3.11/site-packages (from langchain[embeddings,llm]==0.0.166->-r requirements.txt (line 1)) (2.8.4)\r\n",
      "Requirement already satisfied: openapi-schema-pydantic<2.0,>=1.2 in ./venv/lib/python3.11/site-packages (from langchain[embeddings,llm]==0.0.166->-r requirements.txt (line 1)) (1.2.4)\r\n",
      "Requirement already satisfied: requests<3,>=2 in ./venv/lib/python3.11/site-packages (from langchain[embeddings,llm]==0.0.166->-r requirements.txt (line 1)) (2.30.0)\r\n",
      "Requirement already satisfied: sentence-transformers<3,>=2 in ./venv/lib/python3.11/site-packages (from langchain[embeddings,llm]==0.0.166->-r requirements.txt (line 1)) (2.2.2)\r\n",
      "Requirement already satisfied: tenacity<9.0.0,>=8.1.0 in ./venv/lib/python3.11/site-packages (from langchain[embeddings,llm]==0.0.166->-r requirements.txt (line 1)) (8.2.2)\r\n",
      "Requirement already satisfied: tqdm>=4.48.0 in ./venv/lib/python3.11/site-packages (from langchain[embeddings,llm]==0.0.166->-r requirements.txt (line 1)) (4.65.0)\r\n",
      "Requirement already satisfied: pyllamacpp in ./venv/lib/python3.11/site-packages (from pygpt4all==1.1.0->-r requirements.txt (line 2)) (2.1.3)\r\n",
      "Requirement already satisfied: pygptj in ./venv/lib/python3.11/site-packages (from pygpt4all==1.1.0->-r requirements.txt (line 2)) (2.0.3)\r\n",
      "Requirement already satisfied: hnswlib>=0.7 in ./venv/lib/python3.11/site-packages (from chromadb==0.3.22->-r requirements.txt (line 3)) (0.7.0)\r\n",
      "Requirement already satisfied: clickhouse-connect>=0.5.7 in ./venv/lib/python3.11/site-packages (from chromadb==0.3.22->-r requirements.txt (line 3)) (0.5.24)\r\n",
      "Requirement already satisfied: duckdb>=0.7.1 in ./venv/lib/python3.11/site-packages (from chromadb==0.3.22->-r requirements.txt (line 3)) (0.7.1)\r\n",
      "Requirement already satisfied: fastapi>=0.85.1 in ./venv/lib/python3.11/site-packages (from chromadb==0.3.22->-r requirements.txt (line 3)) (0.95.1)\r\n",
      "Requirement already satisfied: uvicorn[standard]>=0.18.3 in ./venv/lib/python3.11/site-packages (from chromadb==0.3.22->-r requirements.txt (line 3)) (0.22.0)\r\n",
      "Requirement already satisfied: posthog>=2.4.0 in ./venv/lib/python3.11/site-packages (from chromadb==0.3.22->-r requirements.txt (line 3)) (3.0.1)\r\n",
      "Requirement already satisfied: typing-extensions>=4.5.0 in ./venv/lib/python3.11/site-packages (from chromadb==0.3.22->-r requirements.txt (line 3)) (4.5.0)\r\n",
      "Requirement already satisfied: charset-normalizer>=2.0.0 in ./venv/lib/python3.11/site-packages (from pdfminer.six==20221105->-r requirements.txt (line 6)) (3.1.0)\r\n",
      "Requirement already satisfied: cryptography>=36.0.0 in ./venv/lib/python3.11/site-packages (from pdfminer.six==20221105->-r requirements.txt (line 6)) (40.0.2)\r\n",
      "Requirement already satisfied: python-dateutil>=2.8.2 in ./venv/lib/python3.11/site-packages (from pandas->-r requirements.txt (line 8)) (2.8.2)\r\n",
      "Requirement already satisfied: pytz>=2020.1 in ./venv/lib/python3.11/site-packages (from pandas->-r requirements.txt (line 8)) (2023.3)\r\n",
      "Requirement already satisfied: tzdata>=2022.1 in ./venv/lib/python3.11/site-packages (from pandas->-r requirements.txt (line 8)) (2023.3)\r\n",
      "Requirement already satisfied: click<9.0.0,>=7.1.1 in ./venv/lib/python3.11/site-packages (from typer[all]->-r requirements.txt (line 9)) (8.1.3)\r\n",
      "Requirement already satisfied: colorama<0.5.0,>=0.4.3 in ./venv/lib/python3.11/site-packages (from typer[all]->-r requirements.txt (line 9)) (0.4.6)\r\n",
      "Requirement already satisfied: shellingham<2.0.0,>=1.3.0 in ./venv/lib/python3.11/site-packages (from typer[all]->-r requirements.txt (line 9)) (1.5.0.post1)\r\n",
      "Requirement already satisfied: rich<14.0.0,>=10.11.0 in ./venv/lib/python3.11/site-packages (from typer[all]->-r requirements.txt (line 9)) (13.3.5)\r\n",
      "Requirement already satisfied: attrs>=17.3.0 in ./venv/lib/python3.11/site-packages (from aiohttp<4.0.0,>=3.8.3->langchain[embeddings,llm]==0.0.166->-r requirements.txt (line 1)) (23.1.0)\r\n",
      "Requirement already satisfied: multidict<7.0,>=4.5 in ./venv/lib/python3.11/site-packages (from aiohttp<4.0.0,>=3.8.3->langchain[embeddings,llm]==0.0.166->-r requirements.txt (line 1)) (6.0.4)\r\n",
      "Requirement already satisfied: async-timeout<5.0,>=4.0.0a3 in ./venv/lib/python3.11/site-packages (from aiohttp<4.0.0,>=3.8.3->langchain[embeddings,llm]==0.0.166->-r requirements.txt (line 1)) (4.0.2)\r\n",
      "Requirement already satisfied: yarl<2.0,>=1.0 in ./venv/lib/python3.11/site-packages (from aiohttp<4.0.0,>=3.8.3->langchain[embeddings,llm]==0.0.166->-r requirements.txt (line 1)) (1.9.2)\r\n",
      "Requirement already satisfied: frozenlist>=1.1.1 in ./venv/lib/python3.11/site-packages (from aiohttp<4.0.0,>=3.8.3->langchain[embeddings,llm]==0.0.166->-r requirements.txt (line 1)) (1.3.3)\r\n",
      "Requirement already satisfied: aiosignal>=1.1.2 in ./venv/lib/python3.11/site-packages (from aiohttp<4.0.0,>=3.8.3->langchain[embeddings,llm]==0.0.166->-r requirements.txt (line 1)) (1.3.1)\r\n",
      "Requirement already satisfied: certifi in ./venv/lib/python3.11/site-packages (from clickhouse-connect>=0.5.7->chromadb==0.3.22->-r requirements.txt (line 3)) (2023.5.7)\r\n",
      "Requirement already satisfied: zstandard in ./venv/lib/python3.11/site-packages (from clickhouse-connect>=0.5.7->chromadb==0.3.22->-r requirements.txt (line 3)) (0.21.0)\r\n",
      "Requirement already satisfied: lz4 in ./venv/lib/python3.11/site-packages (from clickhouse-connect>=0.5.7->chromadb==0.3.22->-r requirements.txt (line 3)) (4.3.2)\r\n",
      "Requirement already satisfied: cffi>=1.12 in ./venv/lib/python3.11/site-packages (from cryptography>=36.0.0->pdfminer.six==20221105->-r requirements.txt (line 6)) (1.15.1)\r\n",
      "Requirement already satisfied: marshmallow<4.0.0,>=3.3.0 in ./venv/lib/python3.11/site-packages (from dataclasses-json<0.6.0,>=0.5.7->langchain[embeddings,llm]==0.0.166->-r requirements.txt (line 1)) (3.19.0)\r\n",
      "Requirement already satisfied: marshmallow-enum<2.0.0,>=1.5.1 in ./venv/lib/python3.11/site-packages (from dataclasses-json<0.6.0,>=0.5.7->langchain[embeddings,llm]==0.0.166->-r requirements.txt (line 1)) (1.5.1)\r\n",
      "Requirement already satisfied: typing-inspect>=0.4.0 in ./venv/lib/python3.11/site-packages (from dataclasses-json<0.6.0,>=0.5.7->langchain[embeddings,llm]==0.0.166->-r requirements.txt (line 1)) (0.8.0)\r\n",
      "Requirement already satisfied: starlette<0.27.0,>=0.26.1 in ./venv/lib/python3.11/site-packages (from fastapi>=0.85.1->chromadb==0.3.22->-r requirements.txt (line 3)) (0.26.1)\r\n",
      "Requirement already satisfied: six>=1.5 in ./venv/lib/python3.11/site-packages (from posthog>=2.4.0->chromadb==0.3.22->-r requirements.txt (line 3)) (1.16.0)\r\n",
      "Requirement already satisfied: monotonic>=1.5 in ./venv/lib/python3.11/site-packages (from posthog>=2.4.0->chromadb==0.3.22->-r requirements.txt (line 3)) (1.6)\r\n",
      "Requirement already satisfied: backoff>=1.10.0 in ./venv/lib/python3.11/site-packages (from posthog>=2.4.0->chromadb==0.3.22->-r requirements.txt (line 3)) (2.2.1)\r\n",
      "Requirement already satisfied: idna<4,>=2.5 in ./venv/lib/python3.11/site-packages (from requests<3,>=2->langchain[embeddings,llm]==0.0.166->-r requirements.txt (line 1)) (3.4)\r\n",
      "Requirement already satisfied: markdown-it-py<3.0.0,>=2.2.0 in ./venv/lib/python3.11/site-packages (from rich<14.0.0,>=10.11.0->typer[all]->-r requirements.txt (line 9)) (2.2.0)\r\n",
      "Requirement already satisfied: pygments<3.0.0,>=2.13.0 in ./venv/lib/python3.11/site-packages (from rich<14.0.0,>=10.11.0->typer[all]->-r requirements.txt (line 9)) (2.15.1)\r\n",
      "Requirement already satisfied: transformers<5.0.0,>=4.6.0 in ./venv/lib/python3.11/site-packages (from sentence-transformers<3,>=2->langchain[embeddings,llm]==0.0.166->-r requirements.txt (line 1)) (4.29.1)\r\n",
      "Requirement already satisfied: torch>=1.6.0 in ./venv/lib/python3.11/site-packages (from sentence-transformers<3,>=2->langchain[embeddings,llm]==0.0.166->-r requirements.txt (line 1)) (2.0.1)\r\n",
      "Requirement already satisfied: torchvision in ./venv/lib/python3.11/site-packages (from sentence-transformers<3,>=2->langchain[embeddings,llm]==0.0.166->-r requirements.txt (line 1)) (0.15.2)\r\n",
      "Requirement already satisfied: scikit-learn in ./venv/lib/python3.11/site-packages (from sentence-transformers<3,>=2->langchain[embeddings,llm]==0.0.166->-r requirements.txt (line 1)) (1.2.2)\r\n",
      "Requirement already satisfied: scipy in ./venv/lib/python3.11/site-packages (from sentence-transformers<3,>=2->langchain[embeddings,llm]==0.0.166->-r requirements.txt (line 1)) (1.10.1)\r\n",
      "Requirement already satisfied: nltk in ./venv/lib/python3.11/site-packages (from sentence-transformers<3,>=2->langchain[embeddings,llm]==0.0.166->-r requirements.txt (line 1)) (3.8.1)\r\n",
      "Requirement already satisfied: sentencepiece in ./venv/lib/python3.11/site-packages (from sentence-transformers<3,>=2->langchain[embeddings,llm]==0.0.166->-r requirements.txt (line 1)) (0.1.99)\r\n",
      "Requirement already satisfied: huggingface-hub>=0.4.0 in ./venv/lib/python3.11/site-packages (from sentence-transformers<3,>=2->langchain[embeddings,llm]==0.0.166->-r requirements.txt (line 1)) (0.14.1)\r\n",
      "Requirement already satisfied: h11>=0.8 in ./venv/lib/python3.11/site-packages (from uvicorn[standard]>=0.18.3->chromadb==0.3.22->-r requirements.txt (line 3)) (0.14.0)\r\n",
      "Requirement already satisfied: httptools>=0.5.0 in ./venv/lib/python3.11/site-packages (from uvicorn[standard]>=0.18.3->chromadb==0.3.22->-r requirements.txt (line 3)) (0.5.0)\r\n",
      "Requirement already satisfied: python-dotenv>=0.13 in ./venv/lib/python3.11/site-packages (from uvicorn[standard]>=0.18.3->chromadb==0.3.22->-r requirements.txt (line 3)) (1.0.0)\r\n",
      "Requirement already satisfied: uvloop!=0.15.0,!=0.15.1,>=0.14.0 in ./venv/lib/python3.11/site-packages (from uvicorn[standard]>=0.18.3->chromadb==0.3.22->-r requirements.txt (line 3)) (0.17.0)\r\n",
      "Requirement already satisfied: watchfiles>=0.13 in ./venv/lib/python3.11/site-packages (from uvicorn[standard]>=0.18.3->chromadb==0.3.22->-r requirements.txt (line 3)) (0.19.0)\r\n",
      "Requirement already satisfied: websockets>=10.4 in ./venv/lib/python3.11/site-packages (from uvicorn[standard]>=0.18.3->chromadb==0.3.22->-r requirements.txt (line 3)) (11.0.3)\r\n",
      "Requirement already satisfied: pycparser in ./venv/lib/python3.11/site-packages (from cffi>=1.12->cryptography>=36.0.0->pdfminer.six==20221105->-r requirements.txt (line 6)) (2.21)\r\n",
      "Requirement already satisfied: filelock in ./venv/lib/python3.11/site-packages (from huggingface-hub>=0.4.0->sentence-transformers<3,>=2->langchain[embeddings,llm]==0.0.166->-r requirements.txt (line 1)) (3.12.0)\r\n",
      "Requirement already satisfied: fsspec in ./venv/lib/python3.11/site-packages (from huggingface-hub>=0.4.0->sentence-transformers<3,>=2->langchain[embeddings,llm]==0.0.166->-r requirements.txt (line 1)) (2023.5.0)\r\n",
      "Requirement already satisfied: packaging>=20.9 in ./venv/lib/python3.11/site-packages (from huggingface-hub>=0.4.0->sentence-transformers<3,>=2->langchain[embeddings,llm]==0.0.166->-r requirements.txt (line 1)) (23.1)\r\n",
      "Requirement already satisfied: mdurl~=0.1 in ./venv/lib/python3.11/site-packages (from markdown-it-py<3.0.0,>=2.2.0->rich<14.0.0,>=10.11.0->typer[all]->-r requirements.txt (line 9)) (0.1.2)\r\n",
      "Requirement already satisfied: anyio<5,>=3.4.0 in ./venv/lib/python3.11/site-packages (from starlette<0.27.0,>=0.26.1->fastapi>=0.85.1->chromadb==0.3.22->-r requirements.txt (line 3)) (3.6.2)\r\n",
      "Requirement already satisfied: sympy in ./venv/lib/python3.11/site-packages (from torch>=1.6.0->sentence-transformers<3,>=2->langchain[embeddings,llm]==0.0.166->-r requirements.txt (line 1)) (1.12)\r\n",
      "Requirement already satisfied: networkx in ./venv/lib/python3.11/site-packages (from torch>=1.6.0->sentence-transformers<3,>=2->langchain[embeddings,llm]==0.0.166->-r requirements.txt (line 1)) (3.1)\r\n",
      "Requirement already satisfied: jinja2 in ./venv/lib/python3.11/site-packages (from torch>=1.6.0->sentence-transformers<3,>=2->langchain[embeddings,llm]==0.0.166->-r requirements.txt (line 1)) (3.1.2)\r\n",
      "Requirement already satisfied: regex!=2019.12.17 in ./venv/lib/python3.11/site-packages (from transformers<5.0.0,>=4.6.0->sentence-transformers<3,>=2->langchain[embeddings,llm]==0.0.166->-r requirements.txt (line 1)) (2023.5.5)\r\n",
      "Requirement already satisfied: tokenizers!=0.11.3,<0.14,>=0.11.1 in ./venv/lib/python3.11/site-packages (from transformers<5.0.0,>=4.6.0->sentence-transformers<3,>=2->langchain[embeddings,llm]==0.0.166->-r requirements.txt (line 1)) (0.13.3)\r\n",
      "Requirement already satisfied: mypy-extensions>=0.3.0 in ./venv/lib/python3.11/site-packages (from typing-inspect>=0.4.0->dataclasses-json<0.6.0,>=0.5.7->langchain[embeddings,llm]==0.0.166->-r requirements.txt (line 1)) (1.0.0)\r\n",
      "Requirement already satisfied: joblib in ./venv/lib/python3.11/site-packages (from nltk->sentence-transformers<3,>=2->langchain[embeddings,llm]==0.0.166->-r requirements.txt (line 1)) (1.2.0)\r\n",
      "Requirement already satisfied: threadpoolctl>=2.0.0 in ./venv/lib/python3.11/site-packages (from scikit-learn->sentence-transformers<3,>=2->langchain[embeddings,llm]==0.0.166->-r requirements.txt (line 1)) (3.1.0)\r\n",
      "Requirement already satisfied: pillow!=8.3.*,>=5.3.0 in ./venv/lib/python3.11/site-packages (from torchvision->sentence-transformers<3,>=2->langchain[embeddings,llm]==0.0.166->-r requirements.txt (line 1)) (9.5.0)\r\n",
      "Requirement already satisfied: sniffio>=1.1 in ./venv/lib/python3.11/site-packages (from anyio<5,>=3.4.0->starlette<0.27.0,>=0.26.1->fastapi>=0.85.1->chromadb==0.3.22->-r requirements.txt (line 3)) (1.3.0)\r\n",
      "Requirement already satisfied: MarkupSafe>=2.0 in ./venv/lib/python3.11/site-packages (from jinja2->torch>=1.6.0->sentence-transformers<3,>=2->langchain[embeddings,llm]==0.0.166->-r requirements.txt (line 1)) (2.1.2)\r\n",
      "Requirement already satisfied: mpmath>=0.19 in ./venv/lib/python3.11/site-packages (from sympy->torch>=1.6.0->sentence-transformers<3,>=2->langchain[embeddings,llm]==0.0.166->-r requirements.txt (line 1)) (1.3.0)\r\n"
     ]
    }
   ],
   "source": [
    "#install requirements\n",
    "!pip install -r requirements.txt"
   ]
  },
  {
   "cell_type": "code",
   "execution_count": 3,
   "outputs": [],
   "source": [
    "from runner import Runner\n"
   ],
   "metadata": {
    "collapsed": false
   }
  },
  {
   "cell_type": "markdown",
   "source": [
    "## Instructions\n",
    "\n",
    "Before use, ensure you have the following:\n",
    "\n",
    "- Downloaded GPT4ALL model, see readme for link\n",
    "- Put your data sources in the sources_documents folder\n",
    "- Downloaded all requirements from requirements.txt (run the first cell - reminder you need Python 3.10 or above)\n",
    "\n",
    "To execute this notebook follow the following steps:\n",
    "\n",
    "1. Ensure you load your data sources into the 'sources_documents' folder, this is the default source directory. You can also change the location inside settings.py. Currently there is support for .pdf, .txt and .csv. It is able to create embeddings from multiple datasources\n",
    "\n",
    "2. Run the pipeline, use the args to specify which steps you would like to run.\n",
    "<br>\n",
    "\n",
    "***WARNING! Embedding step can take a lot of time depending on your hardware (e.g. if you have a GPU that supported CUDA), you should ensure this is done before live demos***\n",
    "\n",
    "<br>\n",
    "\n",
    "3. Outputs by default are stored to the output folder, by default it is data/output. A new .csv is created for each query. If you want to save the result, need to set the save_output flag to True on runner() to save the output to a .csv\n",
    "\n",
    "### Passing in Queries\n",
    "\n",
    "To pass in queries there are a few options:\n",
    "\n",
    "- Pass a query directly into the query function\n",
    "- Read a query from a .txt file by default use queries/queries.txt, to change this you can update settings.py. NB passing in more than one will likely lead in a memory error due to the fact the vectorDB is stored locally in memory. It could work with stronger hardware, it hasn't been tested\n",
    "- Using user input via terminal\n",
    "\n"
   ],
   "metadata": {
    "collapsed": false
   }
  },
  {
   "cell_type": "code",
   "execution_count": 4,
   "outputs": [
    {
     "name": "stdout",
     "output_type": "stream",
     "text": [
      "\u001B[1m                                                                                \u001B[0m\r\n",
      "\u001B[1m \u001B[0m\u001B[1;33mUsage: \u001B[0m\u001B[1mrunner.py [OPTIONS]\u001B[0m\u001B[1m                                                    \u001B[0m\u001B[1m \u001B[0m\r\n",
      "\u001B[1m                                                                                \u001B[0m\r\n",
      " specify the pipeline to run using arguments, if using user input, specify the  \r\n",
      " question to ask and when done enter 'exit' to save output, if not, specify the \r\n",
      " questions to ask in the queries file                                           \r\n",
      "                                                                                \r\n",
      "\u001B[2m╭─\u001B[0m\u001B[2m Options \u001B[0m\u001B[2m───────────────────────────────────────────────────────────────────\u001B[0m\u001B[2m─╮\u001B[0m\r\n",
      "\u001B[2m│\u001B[0m \u001B[1;36m-\u001B[0m\u001B[1;36m-query\u001B[0m                              \u001B[1;33mTEXT\u001B[0m  \u001B[2m[default: None]\u001B[0m                   \u001B[2m│\u001B[0m\r\n",
      "\u001B[2m│\u001B[0m \u001B[1;36m-\u001B[0m\u001B[1;36m-preprocess\u001B[0m     \u001B[1;35m-\u001B[0m\u001B[1;35m-no\u001B[0m\u001B[1;35m-preprocess\u001B[0m     \u001B[1;33m    \u001B[0m  \u001B[2m[default: no-preprocess]\u001B[0m          \u001B[2m│\u001B[0m\r\n",
      "\u001B[2m│\u001B[0m \u001B[1;36m-\u001B[0m\u001B[1;36m-ingest\u001B[0m         \u001B[1;35m-\u001B[0m\u001B[1;35m-no\u001B[0m\u001B[1;35m-ingest\u001B[0m         \u001B[1;33m    \u001B[0m  \u001B[2m[default: no-ingest]\u001B[0m              \u001B[2m│\u001B[0m\r\n",
      "\u001B[2m│\u001B[0m \u001B[1;36m-\u001B[0m\u001B[1;36m-save\u001B[0m\u001B[1;36m-output\u001B[0m    \u001B[1;35m-\u001B[0m\u001B[1;35m-no\u001B[0m\u001B[1;35m-save-output\u001B[0m    \u001B[1;33m    \u001B[0m  \u001B[2m[default: no-save-output]\u001B[0m         \u001B[2m│\u001B[0m\r\n",
      "\u001B[2m│\u001B[0m \u001B[1;36m-\u001B[0m\u001B[1;36m-help\u001B[0m                               \u001B[1;33m    \u001B[0m  Show this message and exit.       \u001B[2m│\u001B[0m\r\n",
      "\u001B[2m╰──────────────────────────────────────────────────────────────────────────────╯\u001B[0m\r\n",
      "\r\n"
     ]
    }
   ],
   "source": [
    "!python runner.py --help\n"
   ],
   "metadata": {
    "collapsed": false
   }
  },
  {
   "cell_type": "code",
   "execution_count": 3,
   "outputs": [],
   "source": [
    "### Run full pipeline ###\n",
    "# preprocess input data\n",
    "# get embeddings from input data\n",
    "# run query\n",
    "\n",
    "#query=\"what product to use to treat a cough\"\n",
    "#runner = Runner(config_name=\"config.yml\")\n",
    "#answers_df = runner.run(query=query, preprocess=True,ingest=True,save_output=False)"
   ],
   "metadata": {
    "collapsed": false
   }
  },
  {
   "cell_type": "code",
   "execution_count": 3,
   "outputs": [
    {
     "name": "stderr",
     "output_type": "stream",
     "text": [
      "INFO:sentence_transformers.SentenceTransformer:Load pretrained SentenceTransformer: sentence-transformers/all-mpnet-base-v2\n",
      "INFO:chromadb:Running Chroma using direct local API.\n",
      "WARNING:chromadb:Using embedded DuckDB with persistence: data will be stored in: /Users/d/PycharmProjects/GPT_chroma/db\n",
      "INFO:clickhouse_connect.driver.ctypes:Successfully imported ClickHouse Connect C data optimizations\n",
      "INFO:clickhouse_connect.driver.ctypes:Successfully import ClickHouse Connect C/Numpy optimizations\n",
      "INFO:clickhouse_connect.json_impl:Using python library for writing JSON byte strings\n"
     ]
    },
    {
     "data": {
      "text/plain": "FloatProgress(value=0.0, layout=Layout(width='100%'), style=ProgressStyle(bar_color='black'))",
      "application/vnd.jupyter.widget-view+json": {
       "version_major": 2,
       "version_minor": 0,
       "model_id": "d24f55423e93405eb3ca636b4af9802e"
      }
     },
     "metadata": {},
     "output_type": "display_data"
    },
    {
     "name": "stderr",
     "output_type": "stream",
     "text": [
      "INFO:chromadb.db.duckdb:loaded in 122148 embeddings\n",
      "INFO:chromadb.db.duckdb:loaded in 1 collections\n",
      "INFO:chromadb.db.duckdb:collection with name langchain already exists, returning existing collection\n"
     ]
    },
    {
     "data": {
      "text/plain": "Batches:   0%|          | 0/1 [00:00<?, ?it/s]",
      "application/vnd.jupyter.widget-view+json": {
       "version_major": 2,
       "version_minor": 0,
       "model_id": "681cdc2b544d4dd6afb1ac0cd70af127"
      }
     },
     "metadata": {},
     "output_type": "display_data"
    },
    {
     "name": "stderr",
     "output_type": "stream",
     "text": [
      "INFO:question_answer:\n",
      "\n",
      "> Question:\n",
      "INFO:question_answer:what product to use to treat a sore throat\n",
      "INFO:question_answer:\n",
      "> Answer:\n",
      "INFO:question_answer:{\"choices\":[{\"text\":\"The product to use to treat a sore throat is Throat Fever Cough Our Pharmacists Recommend Grape Flavor 4 FL OZ 118 mL 90345multisymptom fever  coldjpg.\",\"logprobs\":null}]}\n",
      "INFO:question_answer:\n",
      "> source_documents/drug_context_cleaned.csv:\n",
      "INFO:question_answer:drug take other drugs containing prescription or nonprescription NSAIDs aspirin ibuprofen naproxen or others have 3 or more alcoholic drinks every day while using this product take more or for a longer time than directed Sore throat warning If sore throat is severe persists for more than 2 days is accompanied or followed by fever headache rash nausea or vomiting consult a doctor promptly Do not use to sedate children\n",
      "INFO:question_answer:\n",
      "> source_documents/drug_context_cleaned.csv:\n",
      "INFO:question_answer:Throat Fever Cough Our Pharmacists Recommend Grape Flavor 4 FL OZ 118 mL 90345multisymptom fever  coldjpg\n",
      "INFO:question_answer:\n",
      "> source_documents/drug_context_cleaned.csv:\n",
      "INFO:question_answer:If sore throat is severe persists for more than 2 days is accompanied or followed by fever headache rash nausea or vomiting consult a doctor promptly Do not use with any other drug containing acetaminophen prescription or nonprescription If you are not sure whether a drug contains acetaminophen ask a doctor or pharmacist if you are now taking a prescription monoamine oxidase inhibitor MAOI certain drugs for depression psychiatric or emotional conditions or Parkinsons disease or for 2 weeks after\n",
      "INFO:question_answer:\n",
      "> source_documents/drug_context_cleaned.csv:\n",
      "INFO:question_answer:If sore throat is severe persists for more than 2 days is accompanied or followed by fever headache rash nausea or vomiting consult a doctor promptly Do not use with any other drug containing acetaminophen prescription or nonprescription If you are not sure whether a drug contains acetaminophen ask a doctor or pharmacist if you are now taking a prescription monoamine oxidase inhibitor MAOI certain drugs for depression psychiatric or emotional conditions or Parkinsons disease or for 2 weeks after\n"
     ]
    }
   ],
   "source": [
    "### Query Only using writer LLM API - for this to work you will have needed to run the above cell successfully ###\n",
    "\n",
    "query=\"what product to use to treat a sore throat\"\n",
    "runner = Runner(config_name=\"writer_config.yml\")\n",
    "answers_df = runner.run(query=query, preprocess=False,ingest=False,save_output=False)"
   ],
   "metadata": {
    "collapsed": false
   }
  },
  {
   "cell_type": "code",
   "execution_count": 4,
   "outputs": [
    {
     "data": {
      "text/plain": "                                     question   \n0  what product to use to treat a sore throat  \\\n\n                                              answer   \n0  {\"choices\":[{\"text\":\"The product to use to tre...  \\\n\n                                    source_documents  \n0  {'sources_document': ['source_documents/drug_c...  ",
      "text/html": "<div>\n<style scoped>\n    .dataframe tbody tr th:only-of-type {\n        vertical-align: middle;\n    }\n\n    .dataframe tbody tr th {\n        vertical-align: top;\n    }\n\n    .dataframe thead th {\n        text-align: right;\n    }\n</style>\n<table border=\"1\" class=\"dataframe\">\n  <thead>\n    <tr style=\"text-align: right;\">\n      <th></th>\n      <th>question</th>\n      <th>answer</th>\n      <th>source_documents</th>\n    </tr>\n  </thead>\n  <tbody>\n    <tr>\n      <th>0</th>\n      <td>what product to use to treat a sore throat</td>\n      <td>{\"choices\":[{\"text\":\"The product to use to tre...</td>\n      <td>{'sources_document': ['source_documents/drug_c...</td>\n    </tr>\n  </tbody>\n</table>\n</div>"
     },
     "execution_count": 4,
     "metadata": {},
     "output_type": "execute_result"
    }
   ],
   "source": [
    "answers_df\n"
   ],
   "metadata": {
    "collapsed": false
   }
  },
  {
   "cell_type": "code",
   "execution_count": 5,
   "outputs": [
    {
     "data": {
      "text/plain": "'{\"choices\":[{\"text\":\"The product to use to treat a sore throat is Throat Fever Cough Our Pharmacists Recommend Grape Flavor 4 FL OZ 118 mL 90345multisymptom fever  coldjpg.\",\"logprobs\":null}]}'"
     },
     "execution_count": 5,
     "metadata": {},
     "output_type": "execute_result"
    }
   ],
   "source": [
    "answers_df['answer'][0]"
   ],
   "metadata": {
    "collapsed": false
   }
  },
  {
   "cell_type": "code",
   "execution_count": 6,
   "outputs": [
    {
     "data": {
      "text/plain": "{'sources_document': ['source_documents/drug_context_cleaned.csv'],\n 'sources_row': [9967],\n 'sources_content': ['If sore throat is severe persists for more than 2 days is accompanied or followed by fever headache rash nausea or vomiting consult a doctor promptly Do not use with any other drug containing acetaminophen prescription or nonprescription If you are not sure whether a drug contains acetaminophen ask a doctor or pharmacist if you are now taking a prescription monoamine oxidase inhibitor MAOI certain drugs for depression psychiatric or emotional conditions or Parkinsons disease or for 2 weeks after']}"
     },
     "execution_count": 6,
     "metadata": {},
     "output_type": "execute_result"
    }
   ],
   "source": [
    "answers_df['source_documents'][0]"
   ],
   "metadata": {
    "collapsed": false
   }
  },
  {
   "cell_type": "code",
   "execution_count": 5,
   "outputs": [
    {
     "name": "stderr",
     "output_type": "stream",
     "text": [
      "INFO:sentence_transformers.SentenceTransformer:Load pretrained SentenceTransformer: sentence-transformers/all-mpnet-base-v2\n",
      "INFO:chromadb:Running Chroma using direct local API.\n",
      "WARNING:chromadb:Using embedded DuckDB with persistence: data will be stored in: /Users/d/PycharmProjects/GPT_chroma/db\n",
      "INFO:clickhouse_connect.driver.ctypes:Successfully imported ClickHouse Connect C data optimizations\n",
      "INFO:clickhouse_connect.driver.ctypes:Successfully import ClickHouse Connect C/Numpy optimizations\n",
      "INFO:clickhouse_connect.json_impl:Using python library for writing JSON byte strings\n"
     ]
    },
    {
     "data": {
      "text/plain": "FloatProgress(value=0.0, layout=Layout(width='100%'), style=ProgressStyle(bar_color='black'))",
      "application/vnd.jupyter.widget-view+json": {
       "version_major": 2,
       "version_minor": 0,
       "model_id": "9a7ccac8d7ea462e8ccbd54ba382ba25"
      }
     },
     "metadata": {},
     "output_type": "display_data"
    },
    {
     "name": "stderr",
     "output_type": "stream",
     "text": [
      "INFO:chromadb.db.duckdb:loaded in 122148 embeddings\n",
      "INFO:chromadb.db.duckdb:loaded in 1 collections\n",
      "INFO:chromadb.db.duckdb:collection with name langchain already exists, returning existing collection\n"
     ]
    },
    {
     "data": {
      "text/plain": "Batches:   0%|          | 0/1 [00:00<?, ?it/s]",
      "application/vnd.jupyter.widget-view+json": {
       "version_major": 2,
       "version_minor": 0,
       "model_id": "43b7cd95913646388c746a5746a6f22d"
      }
     },
     "metadata": {},
     "output_type": "display_data"
    },
    {
     "ename": "ValueError",
     "evalue": "Error raised by inference API: 'start_logits'",
     "output_type": "error",
     "traceback": [
      "\u001B[0;31m---------------------------------------------------------------------------\u001B[0m",
      "\u001B[0;31mValueError\u001B[0m                                Traceback (most recent call last)",
      "Cell \u001B[0;32mIn[5], line 6\u001B[0m\n\u001B[1;32m      4\u001B[0m query\u001B[38;5;241m=\u001B[39m\u001B[38;5;124m\"\u001B[39m\u001B[38;5;124mwhat product to use to treat a sore throat\u001B[39m\u001B[38;5;124m\"\u001B[39m\n\u001B[1;32m      5\u001B[0m runner \u001B[38;5;241m=\u001B[39m Runner(config_name\u001B[38;5;241m=\u001B[39m\u001B[38;5;124m\"\u001B[39m\u001B[38;5;124mhf_config.yml\u001B[39m\u001B[38;5;124m\"\u001B[39m)\n\u001B[0;32m----> 6\u001B[0m answers_df \u001B[38;5;241m=\u001B[39m \u001B[43mrunner\u001B[49m\u001B[38;5;241;43m.\u001B[39;49m\u001B[43mrun\u001B[49m\u001B[43m(\u001B[49m\u001B[43mquery\u001B[49m\u001B[38;5;241;43m=\u001B[39;49m\u001B[43mquery\u001B[49m\u001B[43m,\u001B[49m\u001B[43m \u001B[49m\u001B[43mpreprocess\u001B[49m\u001B[38;5;241;43m=\u001B[39;49m\u001B[38;5;28;43;01mFalse\u001B[39;49;00m\u001B[43m,\u001B[49m\u001B[43mingest\u001B[49m\u001B[38;5;241;43m=\u001B[39;49m\u001B[38;5;28;43;01mFalse\u001B[39;49;00m\u001B[43m,\u001B[49m\u001B[43msave_output\u001B[49m\u001B[38;5;241;43m=\u001B[39;49m\u001B[38;5;28;43;01mFalse\u001B[39;49;00m\u001B[43m)\u001B[49m\n",
      "File \u001B[0;32m~/PycharmProjects/GPT_chroma/runner.py:51\u001B[0m, in \u001B[0;36mRunner.run\u001B[0;34m(self, query, preprocess, ingest, save_output)\u001B[0m\n\u001B[1;32m     48\u001B[0m \tingestor\u001B[38;5;241m.\u001B[39membeddings_to_vectordb()\n\u001B[1;32m     49\u001B[0m question_answerer \u001B[38;5;241m=\u001B[39m QuestionAnswerer(config_name\u001B[38;5;241m=\u001B[39m\u001B[38;5;28mself\u001B[39m\u001B[38;5;241m.\u001B[39mconfig_name)\n\u001B[0;32m---> 51\u001B[0m \u001B[43mquestion_answerer\u001B[49m\u001B[38;5;241;43m.\u001B[39;49m\u001B[43mquery\u001B[49m\u001B[43m(\u001B[49m\u001B[43mquery\u001B[49m\u001B[43m)\u001B[49m\n\u001B[1;32m     53\u001B[0m \u001B[38;5;28;01mif\u001B[39;00m save_output:\n\u001B[1;32m     54\u001B[0m \tquestion_answerer\u001B[38;5;241m.\u001B[39moutput(OUTPUT_PATH)\n",
      "File \u001B[0;32m~/PycharmProjects/GPT_chroma/question_answer.py:95\u001B[0m, in \u001B[0;36mQuestionAnswerer.query\u001B[0;34m(self, input_query)\u001B[0m\n\u001B[1;32m     93\u001B[0m     \u001B[38;5;28;01mreturn\u001B[39;00m \u001B[38;5;28mself\u001B[39m\u001B[38;5;241m.\u001B[39m_multi_query(input_query)\n\u001B[1;32m     94\u001B[0m \u001B[38;5;28;01melif\u001B[39;00m \u001B[38;5;28misinstance\u001B[39m(input_query, \u001B[38;5;28mstr\u001B[39m):\n\u001B[0;32m---> 95\u001B[0m     \u001B[38;5;28;01mreturn\u001B[39;00m \u001B[38;5;28;43mself\u001B[39;49m\u001B[38;5;241;43m.\u001B[39;49m\u001B[43m_query\u001B[49m\u001B[43m(\u001B[49m\u001B[43minput_query\u001B[49m\u001B[43m)\u001B[49m\n\u001B[1;32m     96\u001B[0m \u001B[38;5;28;01melse\u001B[39;00m:\n\u001B[1;32m     97\u001B[0m     \u001B[38;5;28;01mraise\u001B[39;00m \u001B[38;5;167;01mTypeError\u001B[39;00m(\u001B[38;5;124m\"\u001B[39m\u001B[38;5;124mquery must be a string or list of strings.\u001B[39m\u001B[38;5;124m\"\u001B[39m)\n",
      "File \u001B[0;32m~/PycharmProjects/GPT_chroma/question_answer.py:62\u001B[0m, in \u001B[0;36mQuestionAnswerer._query\u001B[0;34m(self, input_query)\u001B[0m\n\u001B[1;32m     60\u001B[0m \u001B[38;5;28;01mdef\u001B[39;00m \u001B[38;5;21m_query\u001B[39m(\u001B[38;5;28mself\u001B[39m, input_query:\u001B[38;5;28mstr\u001B[39m):\n\u001B[0;32m---> 62\u001B[0m     res \u001B[38;5;241m=\u001B[39m \u001B[38;5;28;43mself\u001B[39;49m\u001B[38;5;241;43m.\u001B[39;49m\u001B[43mqa\u001B[49m\u001B[43m(\u001B[49m\u001B[43minput_query\u001B[49m\u001B[43m)\u001B[49m\n\u001B[1;32m     64\u001B[0m     logger\u001B[38;5;241m.\u001B[39minfo(\u001B[38;5;124m\"\u001B[39m\u001B[38;5;130;01m\\n\u001B[39;00m\u001B[38;5;130;01m\\n\u001B[39;00m\u001B[38;5;124m> Question:\u001B[39m\u001B[38;5;124m\"\u001B[39m)\n\u001B[1;32m     65\u001B[0m     logger\u001B[38;5;241m.\u001B[39minfo(input_query)\n",
      "File \u001B[0;32m~/PycharmProjects/GPT_chroma/venv/lib/python3.11/site-packages/langchain/chains/base.py:140\u001B[0m, in \u001B[0;36mChain.__call__\u001B[0;34m(self, inputs, return_only_outputs, callbacks)\u001B[0m\n\u001B[1;32m    138\u001B[0m \u001B[38;5;28;01mexcept\u001B[39;00m (\u001B[38;5;167;01mKeyboardInterrupt\u001B[39;00m, \u001B[38;5;167;01mException\u001B[39;00m) \u001B[38;5;28;01mas\u001B[39;00m e:\n\u001B[1;32m    139\u001B[0m     run_manager\u001B[38;5;241m.\u001B[39mon_chain_error(e)\n\u001B[0;32m--> 140\u001B[0m     \u001B[38;5;28;01mraise\u001B[39;00m e\n\u001B[1;32m    141\u001B[0m run_manager\u001B[38;5;241m.\u001B[39mon_chain_end(outputs)\n\u001B[1;32m    142\u001B[0m \u001B[38;5;28;01mreturn\u001B[39;00m \u001B[38;5;28mself\u001B[39m\u001B[38;5;241m.\u001B[39mprep_outputs(inputs, outputs, return_only_outputs)\n",
      "File \u001B[0;32m~/PycharmProjects/GPT_chroma/venv/lib/python3.11/site-packages/langchain/chains/base.py:134\u001B[0m, in \u001B[0;36mChain.__call__\u001B[0;34m(self, inputs, return_only_outputs, callbacks)\u001B[0m\n\u001B[1;32m    128\u001B[0m run_manager \u001B[38;5;241m=\u001B[39m callback_manager\u001B[38;5;241m.\u001B[39mon_chain_start(\n\u001B[1;32m    129\u001B[0m     {\u001B[38;5;124m\"\u001B[39m\u001B[38;5;124mname\u001B[39m\u001B[38;5;124m\"\u001B[39m: \u001B[38;5;28mself\u001B[39m\u001B[38;5;241m.\u001B[39m\u001B[38;5;18m__class__\u001B[39m\u001B[38;5;241m.\u001B[39m\u001B[38;5;18m__name__\u001B[39m},\n\u001B[1;32m    130\u001B[0m     inputs,\n\u001B[1;32m    131\u001B[0m )\n\u001B[1;32m    132\u001B[0m \u001B[38;5;28;01mtry\u001B[39;00m:\n\u001B[1;32m    133\u001B[0m     outputs \u001B[38;5;241m=\u001B[39m (\n\u001B[0;32m--> 134\u001B[0m         \u001B[38;5;28;43mself\u001B[39;49m\u001B[38;5;241;43m.\u001B[39;49m\u001B[43m_call\u001B[49m\u001B[43m(\u001B[49m\u001B[43minputs\u001B[49m\u001B[43m,\u001B[49m\u001B[43m \u001B[49m\u001B[43mrun_manager\u001B[49m\u001B[38;5;241;43m=\u001B[39;49m\u001B[43mrun_manager\u001B[49m\u001B[43m)\u001B[49m\n\u001B[1;32m    135\u001B[0m         \u001B[38;5;28;01mif\u001B[39;00m new_arg_supported\n\u001B[1;32m    136\u001B[0m         \u001B[38;5;28;01melse\u001B[39;00m \u001B[38;5;28mself\u001B[39m\u001B[38;5;241m.\u001B[39m_call(inputs)\n\u001B[1;32m    137\u001B[0m     )\n\u001B[1;32m    138\u001B[0m \u001B[38;5;28;01mexcept\u001B[39;00m (\u001B[38;5;167;01mKeyboardInterrupt\u001B[39;00m, \u001B[38;5;167;01mException\u001B[39;00m) \u001B[38;5;28;01mas\u001B[39;00m e:\n\u001B[1;32m    139\u001B[0m     run_manager\u001B[38;5;241m.\u001B[39mon_chain_error(e)\n",
      "File \u001B[0;32m~/PycharmProjects/GPT_chroma/venv/lib/python3.11/site-packages/langchain/chains/retrieval_qa/base.py:120\u001B[0m, in \u001B[0;36mBaseRetrievalQA._call\u001B[0;34m(self, inputs, run_manager)\u001B[0m\n\u001B[1;32m    117\u001B[0m question \u001B[38;5;241m=\u001B[39m inputs[\u001B[38;5;28mself\u001B[39m\u001B[38;5;241m.\u001B[39minput_key]\n\u001B[1;32m    119\u001B[0m docs \u001B[38;5;241m=\u001B[39m \u001B[38;5;28mself\u001B[39m\u001B[38;5;241m.\u001B[39m_get_docs(question)\n\u001B[0;32m--> 120\u001B[0m answer \u001B[38;5;241m=\u001B[39m \u001B[38;5;28;43mself\u001B[39;49m\u001B[38;5;241;43m.\u001B[39;49m\u001B[43mcombine_documents_chain\u001B[49m\u001B[38;5;241;43m.\u001B[39;49m\u001B[43mrun\u001B[49m\u001B[43m(\u001B[49m\n\u001B[1;32m    121\u001B[0m \u001B[43m    \u001B[49m\u001B[43minput_documents\u001B[49m\u001B[38;5;241;43m=\u001B[39;49m\u001B[43mdocs\u001B[49m\u001B[43m,\u001B[49m\u001B[43m \u001B[49m\u001B[43mquestion\u001B[49m\u001B[38;5;241;43m=\u001B[39;49m\u001B[43mquestion\u001B[49m\u001B[43m,\u001B[49m\u001B[43m \u001B[49m\u001B[43mcallbacks\u001B[49m\u001B[38;5;241;43m=\u001B[39;49m\u001B[43m_run_manager\u001B[49m\u001B[38;5;241;43m.\u001B[39;49m\u001B[43mget_child\u001B[49m\u001B[43m(\u001B[49m\u001B[43m)\u001B[49m\n\u001B[1;32m    122\u001B[0m \u001B[43m\u001B[49m\u001B[43m)\u001B[49m\n\u001B[1;32m    124\u001B[0m \u001B[38;5;28;01mif\u001B[39;00m \u001B[38;5;28mself\u001B[39m\u001B[38;5;241m.\u001B[39mreturn_source_documents:\n\u001B[1;32m    125\u001B[0m     \u001B[38;5;28;01mreturn\u001B[39;00m {\u001B[38;5;28mself\u001B[39m\u001B[38;5;241m.\u001B[39moutput_key: answer, \u001B[38;5;124m\"\u001B[39m\u001B[38;5;124msource_documents\u001B[39m\u001B[38;5;124m\"\u001B[39m: docs}\n",
      "File \u001B[0;32m~/PycharmProjects/GPT_chroma/venv/lib/python3.11/site-packages/langchain/chains/base.py:239\u001B[0m, in \u001B[0;36mChain.run\u001B[0;34m(self, callbacks, *args, **kwargs)\u001B[0m\n\u001B[1;32m    236\u001B[0m     \u001B[38;5;28;01mreturn\u001B[39;00m \u001B[38;5;28mself\u001B[39m(args[\u001B[38;5;241m0\u001B[39m], callbacks\u001B[38;5;241m=\u001B[39mcallbacks)[\u001B[38;5;28mself\u001B[39m\u001B[38;5;241m.\u001B[39moutput_keys[\u001B[38;5;241m0\u001B[39m]]\n\u001B[1;32m    238\u001B[0m \u001B[38;5;28;01mif\u001B[39;00m kwargs \u001B[38;5;129;01mand\u001B[39;00m \u001B[38;5;129;01mnot\u001B[39;00m args:\n\u001B[0;32m--> 239\u001B[0m     \u001B[38;5;28;01mreturn\u001B[39;00m \u001B[38;5;28;43mself\u001B[39;49m\u001B[43m(\u001B[49m\u001B[43mkwargs\u001B[49m\u001B[43m,\u001B[49m\u001B[43m \u001B[49m\u001B[43mcallbacks\u001B[49m\u001B[38;5;241;43m=\u001B[39;49m\u001B[43mcallbacks\u001B[49m\u001B[43m)\u001B[49m[\u001B[38;5;28mself\u001B[39m\u001B[38;5;241m.\u001B[39moutput_keys[\u001B[38;5;241m0\u001B[39m]]\n\u001B[1;32m    241\u001B[0m \u001B[38;5;28;01mif\u001B[39;00m \u001B[38;5;129;01mnot\u001B[39;00m kwargs \u001B[38;5;129;01mand\u001B[39;00m \u001B[38;5;129;01mnot\u001B[39;00m args:\n\u001B[1;32m    242\u001B[0m     \u001B[38;5;28;01mraise\u001B[39;00m \u001B[38;5;167;01mValueError\u001B[39;00m(\n\u001B[1;32m    243\u001B[0m         \u001B[38;5;124m\"\u001B[39m\u001B[38;5;124m`run` supported with either positional arguments or keyword arguments,\u001B[39m\u001B[38;5;124m\"\u001B[39m\n\u001B[1;32m    244\u001B[0m         \u001B[38;5;124m\"\u001B[39m\u001B[38;5;124m but none were provided.\u001B[39m\u001B[38;5;124m\"\u001B[39m\n\u001B[1;32m    245\u001B[0m     )\n",
      "File \u001B[0;32m~/PycharmProjects/GPT_chroma/venv/lib/python3.11/site-packages/langchain/chains/base.py:140\u001B[0m, in \u001B[0;36mChain.__call__\u001B[0;34m(self, inputs, return_only_outputs, callbacks)\u001B[0m\n\u001B[1;32m    138\u001B[0m \u001B[38;5;28;01mexcept\u001B[39;00m (\u001B[38;5;167;01mKeyboardInterrupt\u001B[39;00m, \u001B[38;5;167;01mException\u001B[39;00m) \u001B[38;5;28;01mas\u001B[39;00m e:\n\u001B[1;32m    139\u001B[0m     run_manager\u001B[38;5;241m.\u001B[39mon_chain_error(e)\n\u001B[0;32m--> 140\u001B[0m     \u001B[38;5;28;01mraise\u001B[39;00m e\n\u001B[1;32m    141\u001B[0m run_manager\u001B[38;5;241m.\u001B[39mon_chain_end(outputs)\n\u001B[1;32m    142\u001B[0m \u001B[38;5;28;01mreturn\u001B[39;00m \u001B[38;5;28mself\u001B[39m\u001B[38;5;241m.\u001B[39mprep_outputs(inputs, outputs, return_only_outputs)\n",
      "File \u001B[0;32m~/PycharmProjects/GPT_chroma/venv/lib/python3.11/site-packages/langchain/chains/base.py:134\u001B[0m, in \u001B[0;36mChain.__call__\u001B[0;34m(self, inputs, return_only_outputs, callbacks)\u001B[0m\n\u001B[1;32m    128\u001B[0m run_manager \u001B[38;5;241m=\u001B[39m callback_manager\u001B[38;5;241m.\u001B[39mon_chain_start(\n\u001B[1;32m    129\u001B[0m     {\u001B[38;5;124m\"\u001B[39m\u001B[38;5;124mname\u001B[39m\u001B[38;5;124m\"\u001B[39m: \u001B[38;5;28mself\u001B[39m\u001B[38;5;241m.\u001B[39m\u001B[38;5;18m__class__\u001B[39m\u001B[38;5;241m.\u001B[39m\u001B[38;5;18m__name__\u001B[39m},\n\u001B[1;32m    130\u001B[0m     inputs,\n\u001B[1;32m    131\u001B[0m )\n\u001B[1;32m    132\u001B[0m \u001B[38;5;28;01mtry\u001B[39;00m:\n\u001B[1;32m    133\u001B[0m     outputs \u001B[38;5;241m=\u001B[39m (\n\u001B[0;32m--> 134\u001B[0m         \u001B[38;5;28;43mself\u001B[39;49m\u001B[38;5;241;43m.\u001B[39;49m\u001B[43m_call\u001B[49m\u001B[43m(\u001B[49m\u001B[43minputs\u001B[49m\u001B[43m,\u001B[49m\u001B[43m \u001B[49m\u001B[43mrun_manager\u001B[49m\u001B[38;5;241;43m=\u001B[39;49m\u001B[43mrun_manager\u001B[49m\u001B[43m)\u001B[49m\n\u001B[1;32m    135\u001B[0m         \u001B[38;5;28;01mif\u001B[39;00m new_arg_supported\n\u001B[1;32m    136\u001B[0m         \u001B[38;5;28;01melse\u001B[39;00m \u001B[38;5;28mself\u001B[39m\u001B[38;5;241m.\u001B[39m_call(inputs)\n\u001B[1;32m    137\u001B[0m     )\n\u001B[1;32m    138\u001B[0m \u001B[38;5;28;01mexcept\u001B[39;00m (\u001B[38;5;167;01mKeyboardInterrupt\u001B[39;00m, \u001B[38;5;167;01mException\u001B[39;00m) \u001B[38;5;28;01mas\u001B[39;00m e:\n\u001B[1;32m    139\u001B[0m     run_manager\u001B[38;5;241m.\u001B[39mon_chain_error(e)\n",
      "File \u001B[0;32m~/PycharmProjects/GPT_chroma/venv/lib/python3.11/site-packages/langchain/chains/combine_documents/base.py:84\u001B[0m, in \u001B[0;36mBaseCombineDocumentsChain._call\u001B[0;34m(self, inputs, run_manager)\u001B[0m\n\u001B[1;32m     82\u001B[0m \u001B[38;5;66;03m# Other keys are assumed to be needed for LLM prediction\u001B[39;00m\n\u001B[1;32m     83\u001B[0m other_keys \u001B[38;5;241m=\u001B[39m {k: v \u001B[38;5;28;01mfor\u001B[39;00m k, v \u001B[38;5;129;01min\u001B[39;00m inputs\u001B[38;5;241m.\u001B[39mitems() \u001B[38;5;28;01mif\u001B[39;00m k \u001B[38;5;241m!=\u001B[39m \u001B[38;5;28mself\u001B[39m\u001B[38;5;241m.\u001B[39minput_key}\n\u001B[0;32m---> 84\u001B[0m output, extra_return_dict \u001B[38;5;241m=\u001B[39m \u001B[38;5;28;43mself\u001B[39;49m\u001B[38;5;241;43m.\u001B[39;49m\u001B[43mcombine_docs\u001B[49m\u001B[43m(\u001B[49m\n\u001B[1;32m     85\u001B[0m \u001B[43m    \u001B[49m\u001B[43mdocs\u001B[49m\u001B[43m,\u001B[49m\u001B[43m \u001B[49m\u001B[43mcallbacks\u001B[49m\u001B[38;5;241;43m=\u001B[39;49m\u001B[43m_run_manager\u001B[49m\u001B[38;5;241;43m.\u001B[39;49m\u001B[43mget_child\u001B[49m\u001B[43m(\u001B[49m\u001B[43m)\u001B[49m\u001B[43m,\u001B[49m\u001B[43m \u001B[49m\u001B[38;5;241;43m*\u001B[39;49m\u001B[38;5;241;43m*\u001B[39;49m\u001B[43mother_keys\u001B[49m\n\u001B[1;32m     86\u001B[0m \u001B[43m\u001B[49m\u001B[43m)\u001B[49m\n\u001B[1;32m     87\u001B[0m extra_return_dict[\u001B[38;5;28mself\u001B[39m\u001B[38;5;241m.\u001B[39moutput_key] \u001B[38;5;241m=\u001B[39m output\n\u001B[1;32m     88\u001B[0m \u001B[38;5;28;01mreturn\u001B[39;00m extra_return_dict\n",
      "File \u001B[0;32m~/PycharmProjects/GPT_chroma/venv/lib/python3.11/site-packages/langchain/chains/combine_documents/stuff.py:87\u001B[0m, in \u001B[0;36mStuffDocumentsChain.combine_docs\u001B[0;34m(self, docs, callbacks, **kwargs)\u001B[0m\n\u001B[1;32m     85\u001B[0m inputs \u001B[38;5;241m=\u001B[39m \u001B[38;5;28mself\u001B[39m\u001B[38;5;241m.\u001B[39m_get_inputs(docs, \u001B[38;5;241m*\u001B[39m\u001B[38;5;241m*\u001B[39mkwargs)\n\u001B[1;32m     86\u001B[0m \u001B[38;5;66;03m# Call predict on the LLM.\u001B[39;00m\n\u001B[0;32m---> 87\u001B[0m \u001B[38;5;28;01mreturn\u001B[39;00m \u001B[38;5;28;43mself\u001B[39;49m\u001B[38;5;241;43m.\u001B[39;49m\u001B[43mllm_chain\u001B[49m\u001B[38;5;241;43m.\u001B[39;49m\u001B[43mpredict\u001B[49m\u001B[43m(\u001B[49m\u001B[43mcallbacks\u001B[49m\u001B[38;5;241;43m=\u001B[39;49m\u001B[43mcallbacks\u001B[49m\u001B[43m,\u001B[49m\u001B[43m \u001B[49m\u001B[38;5;241;43m*\u001B[39;49m\u001B[38;5;241;43m*\u001B[39;49m\u001B[43minputs\u001B[49m\u001B[43m)\u001B[49m, {}\n",
      "File \u001B[0;32m~/PycharmProjects/GPT_chroma/venv/lib/python3.11/site-packages/langchain/chains/llm.py:213\u001B[0m, in \u001B[0;36mLLMChain.predict\u001B[0;34m(self, callbacks, **kwargs)\u001B[0m\n\u001B[1;32m    198\u001B[0m \u001B[38;5;28;01mdef\u001B[39;00m \u001B[38;5;21mpredict\u001B[39m(\u001B[38;5;28mself\u001B[39m, callbacks: Callbacks \u001B[38;5;241m=\u001B[39m \u001B[38;5;28;01mNone\u001B[39;00m, \u001B[38;5;241m*\u001B[39m\u001B[38;5;241m*\u001B[39mkwargs: Any) \u001B[38;5;241m-\u001B[39m\u001B[38;5;241m>\u001B[39m \u001B[38;5;28mstr\u001B[39m:\n\u001B[1;32m    199\u001B[0m \u001B[38;5;250m    \u001B[39m\u001B[38;5;124;03m\"\"\"Format prompt with kwargs and pass to LLM.\u001B[39;00m\n\u001B[1;32m    200\u001B[0m \n\u001B[1;32m    201\u001B[0m \u001B[38;5;124;03m    Args:\u001B[39;00m\n\u001B[0;32m   (...)\u001B[0m\n\u001B[1;32m    211\u001B[0m \u001B[38;5;124;03m            completion = llm.predict(adjective=\"funny\")\u001B[39;00m\n\u001B[1;32m    212\u001B[0m \u001B[38;5;124;03m    \"\"\"\u001B[39;00m\n\u001B[0;32m--> 213\u001B[0m     \u001B[38;5;28;01mreturn\u001B[39;00m \u001B[38;5;28;43mself\u001B[39;49m\u001B[43m(\u001B[49m\u001B[43mkwargs\u001B[49m\u001B[43m,\u001B[49m\u001B[43m \u001B[49m\u001B[43mcallbacks\u001B[49m\u001B[38;5;241;43m=\u001B[39;49m\u001B[43mcallbacks\u001B[49m\u001B[43m)\u001B[49m[\u001B[38;5;28mself\u001B[39m\u001B[38;5;241m.\u001B[39moutput_key]\n",
      "File \u001B[0;32m~/PycharmProjects/GPT_chroma/venv/lib/python3.11/site-packages/langchain/chains/base.py:140\u001B[0m, in \u001B[0;36mChain.__call__\u001B[0;34m(self, inputs, return_only_outputs, callbacks)\u001B[0m\n\u001B[1;32m    138\u001B[0m \u001B[38;5;28;01mexcept\u001B[39;00m (\u001B[38;5;167;01mKeyboardInterrupt\u001B[39;00m, \u001B[38;5;167;01mException\u001B[39;00m) \u001B[38;5;28;01mas\u001B[39;00m e:\n\u001B[1;32m    139\u001B[0m     run_manager\u001B[38;5;241m.\u001B[39mon_chain_error(e)\n\u001B[0;32m--> 140\u001B[0m     \u001B[38;5;28;01mraise\u001B[39;00m e\n\u001B[1;32m    141\u001B[0m run_manager\u001B[38;5;241m.\u001B[39mon_chain_end(outputs)\n\u001B[1;32m    142\u001B[0m \u001B[38;5;28;01mreturn\u001B[39;00m \u001B[38;5;28mself\u001B[39m\u001B[38;5;241m.\u001B[39mprep_outputs(inputs, outputs, return_only_outputs)\n",
      "File \u001B[0;32m~/PycharmProjects/GPT_chroma/venv/lib/python3.11/site-packages/langchain/chains/base.py:134\u001B[0m, in \u001B[0;36mChain.__call__\u001B[0;34m(self, inputs, return_only_outputs, callbacks)\u001B[0m\n\u001B[1;32m    128\u001B[0m run_manager \u001B[38;5;241m=\u001B[39m callback_manager\u001B[38;5;241m.\u001B[39mon_chain_start(\n\u001B[1;32m    129\u001B[0m     {\u001B[38;5;124m\"\u001B[39m\u001B[38;5;124mname\u001B[39m\u001B[38;5;124m\"\u001B[39m: \u001B[38;5;28mself\u001B[39m\u001B[38;5;241m.\u001B[39m\u001B[38;5;18m__class__\u001B[39m\u001B[38;5;241m.\u001B[39m\u001B[38;5;18m__name__\u001B[39m},\n\u001B[1;32m    130\u001B[0m     inputs,\n\u001B[1;32m    131\u001B[0m )\n\u001B[1;32m    132\u001B[0m \u001B[38;5;28;01mtry\u001B[39;00m:\n\u001B[1;32m    133\u001B[0m     outputs \u001B[38;5;241m=\u001B[39m (\n\u001B[0;32m--> 134\u001B[0m         \u001B[38;5;28;43mself\u001B[39;49m\u001B[38;5;241;43m.\u001B[39;49m\u001B[43m_call\u001B[49m\u001B[43m(\u001B[49m\u001B[43minputs\u001B[49m\u001B[43m,\u001B[49m\u001B[43m \u001B[49m\u001B[43mrun_manager\u001B[49m\u001B[38;5;241;43m=\u001B[39;49m\u001B[43mrun_manager\u001B[49m\u001B[43m)\u001B[49m\n\u001B[1;32m    135\u001B[0m         \u001B[38;5;28;01mif\u001B[39;00m new_arg_supported\n\u001B[1;32m    136\u001B[0m         \u001B[38;5;28;01melse\u001B[39;00m \u001B[38;5;28mself\u001B[39m\u001B[38;5;241m.\u001B[39m_call(inputs)\n\u001B[1;32m    137\u001B[0m     )\n\u001B[1;32m    138\u001B[0m \u001B[38;5;28;01mexcept\u001B[39;00m (\u001B[38;5;167;01mKeyboardInterrupt\u001B[39;00m, \u001B[38;5;167;01mException\u001B[39;00m) \u001B[38;5;28;01mas\u001B[39;00m e:\n\u001B[1;32m    139\u001B[0m     run_manager\u001B[38;5;241m.\u001B[39mon_chain_error(e)\n",
      "File \u001B[0;32m~/PycharmProjects/GPT_chroma/venv/lib/python3.11/site-packages/langchain/chains/llm.py:69\u001B[0m, in \u001B[0;36mLLMChain._call\u001B[0;34m(self, inputs, run_manager)\u001B[0m\n\u001B[1;32m     64\u001B[0m \u001B[38;5;28;01mdef\u001B[39;00m \u001B[38;5;21m_call\u001B[39m(\n\u001B[1;32m     65\u001B[0m     \u001B[38;5;28mself\u001B[39m,\n\u001B[1;32m     66\u001B[0m     inputs: Dict[\u001B[38;5;28mstr\u001B[39m, Any],\n\u001B[1;32m     67\u001B[0m     run_manager: Optional[CallbackManagerForChainRun] \u001B[38;5;241m=\u001B[39m \u001B[38;5;28;01mNone\u001B[39;00m,\n\u001B[1;32m     68\u001B[0m ) \u001B[38;5;241m-\u001B[39m\u001B[38;5;241m>\u001B[39m Dict[\u001B[38;5;28mstr\u001B[39m, \u001B[38;5;28mstr\u001B[39m]:\n\u001B[0;32m---> 69\u001B[0m     response \u001B[38;5;241m=\u001B[39m \u001B[38;5;28;43mself\u001B[39;49m\u001B[38;5;241;43m.\u001B[39;49m\u001B[43mgenerate\u001B[49m\u001B[43m(\u001B[49m\u001B[43m[\u001B[49m\u001B[43minputs\u001B[49m\u001B[43m]\u001B[49m\u001B[43m,\u001B[49m\u001B[43m \u001B[49m\u001B[43mrun_manager\u001B[49m\u001B[38;5;241;43m=\u001B[39;49m\u001B[43mrun_manager\u001B[49m\u001B[43m)\u001B[49m\n\u001B[1;32m     70\u001B[0m     \u001B[38;5;28;01mreturn\u001B[39;00m \u001B[38;5;28mself\u001B[39m\u001B[38;5;241m.\u001B[39mcreate_outputs(response)[\u001B[38;5;241m0\u001B[39m]\n",
      "File \u001B[0;32m~/PycharmProjects/GPT_chroma/venv/lib/python3.11/site-packages/langchain/chains/llm.py:79\u001B[0m, in \u001B[0;36mLLMChain.generate\u001B[0;34m(self, input_list, run_manager)\u001B[0m\n\u001B[1;32m     77\u001B[0m \u001B[38;5;250m\u001B[39m\u001B[38;5;124;03m\"\"\"Generate LLM result from inputs.\"\"\"\u001B[39;00m\n\u001B[1;32m     78\u001B[0m prompts, stop \u001B[38;5;241m=\u001B[39m \u001B[38;5;28mself\u001B[39m\u001B[38;5;241m.\u001B[39mprep_prompts(input_list, run_manager\u001B[38;5;241m=\u001B[39mrun_manager)\n\u001B[0;32m---> 79\u001B[0m \u001B[38;5;28;01mreturn\u001B[39;00m \u001B[38;5;28;43mself\u001B[39;49m\u001B[38;5;241;43m.\u001B[39;49m\u001B[43mllm\u001B[49m\u001B[38;5;241;43m.\u001B[39;49m\u001B[43mgenerate_prompt\u001B[49m\u001B[43m(\u001B[49m\n\u001B[1;32m     80\u001B[0m \u001B[43m    \u001B[49m\u001B[43mprompts\u001B[49m\u001B[43m,\u001B[49m\u001B[43m \u001B[49m\u001B[43mstop\u001B[49m\u001B[43m,\u001B[49m\u001B[43m \u001B[49m\u001B[43mcallbacks\u001B[49m\u001B[38;5;241;43m=\u001B[39;49m\u001B[43mrun_manager\u001B[49m\u001B[38;5;241;43m.\u001B[39;49m\u001B[43mget_child\u001B[49m\u001B[43m(\u001B[49m\u001B[43m)\u001B[49m\u001B[43m \u001B[49m\u001B[38;5;28;43;01mif\u001B[39;49;00m\u001B[43m \u001B[49m\u001B[43mrun_manager\u001B[49m\u001B[43m \u001B[49m\u001B[38;5;28;43;01melse\u001B[39;49;00m\u001B[43m \u001B[49m\u001B[38;5;28;43;01mNone\u001B[39;49;00m\n\u001B[1;32m     81\u001B[0m \u001B[43m\u001B[49m\u001B[43m)\u001B[49m\n",
      "File \u001B[0;32m~/PycharmProjects/GPT_chroma/venv/lib/python3.11/site-packages/langchain/llms/base.py:127\u001B[0m, in \u001B[0;36mBaseLLM.generate_prompt\u001B[0;34m(self, prompts, stop, callbacks)\u001B[0m\n\u001B[1;32m    120\u001B[0m \u001B[38;5;28;01mdef\u001B[39;00m \u001B[38;5;21mgenerate_prompt\u001B[39m(\n\u001B[1;32m    121\u001B[0m     \u001B[38;5;28mself\u001B[39m,\n\u001B[1;32m    122\u001B[0m     prompts: List[PromptValue],\n\u001B[1;32m    123\u001B[0m     stop: Optional[List[\u001B[38;5;28mstr\u001B[39m]] \u001B[38;5;241m=\u001B[39m \u001B[38;5;28;01mNone\u001B[39;00m,\n\u001B[1;32m    124\u001B[0m     callbacks: Callbacks \u001B[38;5;241m=\u001B[39m \u001B[38;5;28;01mNone\u001B[39;00m,\n\u001B[1;32m    125\u001B[0m ) \u001B[38;5;241m-\u001B[39m\u001B[38;5;241m>\u001B[39m LLMResult:\n\u001B[1;32m    126\u001B[0m     prompt_strings \u001B[38;5;241m=\u001B[39m [p\u001B[38;5;241m.\u001B[39mto_string() \u001B[38;5;28;01mfor\u001B[39;00m p \u001B[38;5;129;01min\u001B[39;00m prompts]\n\u001B[0;32m--> 127\u001B[0m     \u001B[38;5;28;01mreturn\u001B[39;00m \u001B[38;5;28;43mself\u001B[39;49m\u001B[38;5;241;43m.\u001B[39;49m\u001B[43mgenerate\u001B[49m\u001B[43m(\u001B[49m\u001B[43mprompt_strings\u001B[49m\u001B[43m,\u001B[49m\u001B[43m \u001B[49m\u001B[43mstop\u001B[49m\u001B[38;5;241;43m=\u001B[39;49m\u001B[43mstop\u001B[49m\u001B[43m,\u001B[49m\u001B[43m \u001B[49m\u001B[43mcallbacks\u001B[49m\u001B[38;5;241;43m=\u001B[39;49m\u001B[43mcallbacks\u001B[49m\u001B[43m)\u001B[49m\n",
      "File \u001B[0;32m~/PycharmProjects/GPT_chroma/venv/lib/python3.11/site-packages/langchain/llms/base.py:176\u001B[0m, in \u001B[0;36mBaseLLM.generate\u001B[0;34m(self, prompts, stop, callbacks)\u001B[0m\n\u001B[1;32m    174\u001B[0m \u001B[38;5;28;01mexcept\u001B[39;00m (\u001B[38;5;167;01mKeyboardInterrupt\u001B[39;00m, \u001B[38;5;167;01mException\u001B[39;00m) \u001B[38;5;28;01mas\u001B[39;00m e:\n\u001B[1;32m    175\u001B[0m     run_manager\u001B[38;5;241m.\u001B[39mon_llm_error(e)\n\u001B[0;32m--> 176\u001B[0m     \u001B[38;5;28;01mraise\u001B[39;00m e\n\u001B[1;32m    177\u001B[0m run_manager\u001B[38;5;241m.\u001B[39mon_llm_end(output)\n\u001B[1;32m    178\u001B[0m \u001B[38;5;28;01mreturn\u001B[39;00m output\n",
      "File \u001B[0;32m~/PycharmProjects/GPT_chroma/venv/lib/python3.11/site-packages/langchain/llms/base.py:170\u001B[0m, in \u001B[0;36mBaseLLM.generate\u001B[0;34m(self, prompts, stop, callbacks)\u001B[0m\n\u001B[1;32m    165\u001B[0m run_manager \u001B[38;5;241m=\u001B[39m callback_manager\u001B[38;5;241m.\u001B[39mon_llm_start(\n\u001B[1;32m    166\u001B[0m     {\u001B[38;5;124m\"\u001B[39m\u001B[38;5;124mname\u001B[39m\u001B[38;5;124m\"\u001B[39m: \u001B[38;5;28mself\u001B[39m\u001B[38;5;241m.\u001B[39m\u001B[38;5;18m__class__\u001B[39m\u001B[38;5;241m.\u001B[39m\u001B[38;5;18m__name__\u001B[39m}, prompts\n\u001B[1;32m    167\u001B[0m )\n\u001B[1;32m    168\u001B[0m \u001B[38;5;28;01mtry\u001B[39;00m:\n\u001B[1;32m    169\u001B[0m     output \u001B[38;5;241m=\u001B[39m (\n\u001B[0;32m--> 170\u001B[0m         \u001B[38;5;28;43mself\u001B[39;49m\u001B[38;5;241;43m.\u001B[39;49m\u001B[43m_generate\u001B[49m\u001B[43m(\u001B[49m\u001B[43mprompts\u001B[49m\u001B[43m,\u001B[49m\u001B[43m \u001B[49m\u001B[43mstop\u001B[49m\u001B[38;5;241;43m=\u001B[39;49m\u001B[43mstop\u001B[49m\u001B[43m,\u001B[49m\u001B[43m \u001B[49m\u001B[43mrun_manager\u001B[49m\u001B[38;5;241;43m=\u001B[39;49m\u001B[43mrun_manager\u001B[49m\u001B[43m)\u001B[49m\n\u001B[1;32m    171\u001B[0m         \u001B[38;5;28;01mif\u001B[39;00m new_arg_supported\n\u001B[1;32m    172\u001B[0m         \u001B[38;5;28;01melse\u001B[39;00m \u001B[38;5;28mself\u001B[39m\u001B[38;5;241m.\u001B[39m_generate(prompts, stop\u001B[38;5;241m=\u001B[39mstop)\n\u001B[1;32m    173\u001B[0m     )\n\u001B[1;32m    174\u001B[0m \u001B[38;5;28;01mexcept\u001B[39;00m (\u001B[38;5;167;01mKeyboardInterrupt\u001B[39;00m, \u001B[38;5;167;01mException\u001B[39;00m) \u001B[38;5;28;01mas\u001B[39;00m e:\n\u001B[1;32m    175\u001B[0m     run_manager\u001B[38;5;241m.\u001B[39mon_llm_error(e)\n",
      "File \u001B[0;32m~/PycharmProjects/GPT_chroma/venv/lib/python3.11/site-packages/langchain/llms/base.py:377\u001B[0m, in \u001B[0;36mLLM._generate\u001B[0;34m(self, prompts, stop, run_manager)\u001B[0m\n\u001B[1;32m    374\u001B[0m new_arg_supported \u001B[38;5;241m=\u001B[39m inspect\u001B[38;5;241m.\u001B[39msignature(\u001B[38;5;28mself\u001B[39m\u001B[38;5;241m.\u001B[39m_call)\u001B[38;5;241m.\u001B[39mparameters\u001B[38;5;241m.\u001B[39mget(\u001B[38;5;124m\"\u001B[39m\u001B[38;5;124mrun_manager\u001B[39m\u001B[38;5;124m\"\u001B[39m)\n\u001B[1;32m    375\u001B[0m \u001B[38;5;28;01mfor\u001B[39;00m prompt \u001B[38;5;129;01min\u001B[39;00m prompts:\n\u001B[1;32m    376\u001B[0m     text \u001B[38;5;241m=\u001B[39m (\n\u001B[0;32m--> 377\u001B[0m         \u001B[38;5;28;43mself\u001B[39;49m\u001B[38;5;241;43m.\u001B[39;49m\u001B[43m_call\u001B[49m\u001B[43m(\u001B[49m\u001B[43mprompt\u001B[49m\u001B[43m,\u001B[49m\u001B[43m \u001B[49m\u001B[43mstop\u001B[49m\u001B[38;5;241;43m=\u001B[39;49m\u001B[43mstop\u001B[49m\u001B[43m,\u001B[49m\u001B[43m \u001B[49m\u001B[43mrun_manager\u001B[49m\u001B[38;5;241;43m=\u001B[39;49m\u001B[43mrun_manager\u001B[49m\u001B[43m)\u001B[49m\n\u001B[1;32m    378\u001B[0m         \u001B[38;5;28;01mif\u001B[39;00m new_arg_supported\n\u001B[1;32m    379\u001B[0m         \u001B[38;5;28;01melse\u001B[39;00m \u001B[38;5;28mself\u001B[39m\u001B[38;5;241m.\u001B[39m_call(prompt, stop\u001B[38;5;241m=\u001B[39mstop)\n\u001B[1;32m    380\u001B[0m     )\n\u001B[1;32m    381\u001B[0m     generations\u001B[38;5;241m.\u001B[39mappend([Generation(text\u001B[38;5;241m=\u001B[39mtext)])\n\u001B[1;32m    382\u001B[0m \u001B[38;5;28;01mreturn\u001B[39;00m LLMResult(generations\u001B[38;5;241m=\u001B[39mgenerations)\n",
      "File \u001B[0;32m~/PycharmProjects/GPT_chroma/hf_endpoint.py:136\u001B[0m, in \u001B[0;36mHfHub._call\u001B[0;34m(self, prompt, stop, run_manager)\u001B[0m\n\u001B[1;32m    134\u001B[0m generated_text \u001B[38;5;241m=\u001B[39m response\u001B[38;5;241m.\u001B[39mjson()\n\u001B[1;32m    135\u001B[0m \u001B[38;5;28;01mif\u001B[39;00m \u001B[38;5;124m\"\u001B[39m\u001B[38;5;124merror\u001B[39m\u001B[38;5;124m\"\u001B[39m \u001B[38;5;129;01min\u001B[39;00m generated_text:\n\u001B[0;32m--> 136\u001B[0m \t\u001B[38;5;28;01mraise\u001B[39;00m \u001B[38;5;167;01mValueError\u001B[39;00m(\n\u001B[1;32m    137\u001B[0m \t\t\u001B[38;5;124mf\u001B[39m\u001B[38;5;124m\"\u001B[39m\u001B[38;5;124mError raised by inference API: \u001B[39m\u001B[38;5;132;01m{\u001B[39;00mgenerated_text[\u001B[38;5;124m'\u001B[39m\u001B[38;5;124merror\u001B[39m\u001B[38;5;124m'\u001B[39m]\u001B[38;5;132;01m}\u001B[39;00m\u001B[38;5;124m\"\u001B[39m\n\u001B[1;32m    138\u001B[0m \t)\n\u001B[1;32m    139\u001B[0m \u001B[38;5;28;01mif\u001B[39;00m \u001B[38;5;28mself\u001B[39m\u001B[38;5;241m.\u001B[39mtask \u001B[38;5;241m==\u001B[39m \u001B[38;5;124m\"\u001B[39m\u001B[38;5;124mtext-generation\u001B[39m\u001B[38;5;124m\"\u001B[39m:\n\u001B[1;32m    140\u001B[0m \t\u001B[38;5;66;03m# Text generation return includes the starter text.\u001B[39;00m\n\u001B[1;32m    141\u001B[0m \ttext \u001B[38;5;241m=\u001B[39m generated_text[\u001B[38;5;241m0\u001B[39m][\u001B[38;5;124m\"\u001B[39m\u001B[38;5;124mgenerated_text\u001B[39m\u001B[38;5;124m\"\u001B[39m][\u001B[38;5;28mlen\u001B[39m(prompt):]\n",
      "\u001B[0;31mValueError\u001B[0m: Error raised by inference API: 'start_logits'"
     ]
    }
   ],
   "source": [
    "### Query Only using writer LLM deployed as inference endpoint - for this to work you will have needed to run the above cell successfully ###\n",
    "\n",
    "\n",
    "query=\"what product to use to treat a sore throat\"\n",
    "runner = Runner(config_name=\"hf_config.yml\")\n",
    "answers_df = runner.run(query=query, preprocess=False,ingest=False,save_output=False)"
   ],
   "metadata": {
    "collapsed": false
   }
  },
  {
   "cell_type": "code",
   "execution_count": 16,
   "outputs": [
    {
     "data": {
      "text/plain": "                                     question   \n0  what product to use to treat a sore throat  \\\n\n                                              answer   \n0  {\"choices\":[{\"text\":\"The product to use to tre...  \\\n\n                                    source_documents  \n0  {'sources_document': ['source_documents/drug_c...  ",
      "text/html": "<div>\n<style scoped>\n    .dataframe tbody tr th:only-of-type {\n        vertical-align: middle;\n    }\n\n    .dataframe tbody tr th {\n        vertical-align: top;\n    }\n\n    .dataframe thead th {\n        text-align: right;\n    }\n</style>\n<table border=\"1\" class=\"dataframe\">\n  <thead>\n    <tr style=\"text-align: right;\">\n      <th></th>\n      <th>question</th>\n      <th>answer</th>\n      <th>source_documents</th>\n    </tr>\n  </thead>\n  <tbody>\n    <tr>\n      <th>0</th>\n      <td>what product to use to treat a sore throat</td>\n      <td>{\"choices\":[{\"text\":\"The product to use to tre...</td>\n      <td>{'sources_document': ['source_documents/drug_c...</td>\n    </tr>\n  </tbody>\n</table>\n</div>"
     },
     "execution_count": 16,
     "metadata": {},
     "output_type": "execute_result"
    }
   ],
   "source": [
    "answers_df\n"
   ],
   "metadata": {
    "collapsed": false
   }
  },
  {
   "cell_type": "code",
   "execution_count": 14,
   "outputs": [
    {
     "data": {
      "text/plain": "'{\"choices\":[{\"text\":\"The product to use to treat a sore throat is Throat Fever Cough Our Pharmacists Recommend Grape Flavor 4 FL OZ 118 mL 90345multisymptom fever  coldjpg.\",\"logprobs\":null}]}'"
     },
     "execution_count": 14,
     "metadata": {},
     "output_type": "execute_result"
    }
   ],
   "source": [
    "answers_df['answer'][0]"
   ],
   "metadata": {
    "collapsed": false
   }
  },
  {
   "cell_type": "code",
   "execution_count": 11,
   "outputs": [
    {
     "data": {
      "text/plain": "{'sources_document': ['source_documents/drug_context_cleaned.csv'],\n 'sources_row': [9967],\n 'sources_content': ['If sore throat is severe persists for more than 2 days is accompanied or followed by fever headache rash nausea or vomiting consult a doctor promptly Do not use with any other drug containing acetaminophen prescription or nonprescription If you are not sure whether a drug contains acetaminophen ask a doctor or pharmacist if you are now taking a prescription monoamine oxidase inhibitor MAOI certain drugs for depression psychiatric or emotional conditions or Parkinsons disease or for 2 weeks after']}"
     },
     "execution_count": 11,
     "metadata": {},
     "output_type": "execute_result"
    }
   ],
   "source": [
    "answers_df['source_documents'][0]"
   ],
   "metadata": {
    "collapsed": false
   }
  }
 ],
 "metadata": {
  "kernelspec": {
   "display_name": "Python 3",
   "language": "python",
   "name": "python3"
  },
  "language_info": {
   "codemirror_mode": {
    "name": "ipython",
    "version": 2
   },
   "file_extension": ".py",
   "mimetype": "text/x-python",
   "name": "python",
   "nbconvert_exporter": "python",
   "pygments_lexer": "ipython2",
   "version": "2.7.6"
  }
 },
 "nbformat": 4,
 "nbformat_minor": 0
}
